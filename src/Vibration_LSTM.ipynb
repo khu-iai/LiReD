{
 "cells": [
  {
   "cell_type": "code",
   "execution_count": 1,
   "metadata": {},
   "outputs": [
    {
     "name": "stderr",
     "output_type": "stream",
     "text": [
      "Using TensorFlow backend.\n"
     ]
    }
   ],
   "source": [
    "# 0. 사용할 패키지 불러오기\n",
    "import numpy as np\n",
    "import pandas as pd\n",
    "import matplotlib.pyplot as plt\n",
    "\n",
    "from sklearn.model_selection import train_test_split, RepeatedStratifiedKFold, cross_validate, StratifiedKFold\n",
    "from keras.layers.embeddings import Embedding\n",
    "from sklearn.metrics import accuracy_score, f1_score, confusion_matrix, precision_score, recall_score\n",
    "\n",
    "from keras.preprocessing import sequence\n",
    "from keras.models import Sequential\n",
    "from keras.layers import Dense, Embedding, LSTM, Dropout\n",
    "from keras.layers import Flatten\n",
    "from keras.callbacks import EarlyStopping, ModelCheckpoint\n",
    "from keras.layers.normalization import BatchNormalization\n",
    "from keras.initializers import Initializer\n",
    "from keras import regularizers\n",
    "from keras.models import load_model"
   ]
  },
  {
   "cell_type": "code",
   "execution_count": 15,
   "metadata": {},
   "outputs": [],
   "source": [
    "raw_data = pd.read_csv('./final_data.csv')"
   ]
  },
  {
   "cell_type": "code",
   "execution_count": 16,
   "metadata": {},
   "outputs": [
    {
     "data": {
      "text/plain": [
       "0    0\n",
       "1    0\n",
       "Name: y, dtype: int64"
      ]
     },
     "execution_count": 16,
     "metadata": {},
     "output_type": "execute_result"
    }
   ],
   "source": [
    "raw_data.iloc[:,501].head(2)"
   ]
  },
  {
   "cell_type": "code",
   "execution_count": 17,
   "metadata": {},
   "outputs": [],
   "source": [
    "x_train, x_test, y_train, y_test = train_test_split(raw_data.iloc[:,0:501], \n",
    "                                                    raw_data.iloc[:,501],\n",
    "                                                    test_size = 0.3, stratify = raw_data.iloc[:,501], random_state = 7)"
   ]
  },
  {
   "cell_type": "code",
   "execution_count": 18,
   "metadata": {
    "scrolled": true
   },
   "outputs": [],
   "source": [
    "for i in range(0, x_train.shape[0]):\n",
    "    x_train.iloc[i,:] = (x_train.iloc[i,:] - min(x_train.iloc[i,:])) / (max(x_train.iloc[i,:]) - min(x_train.iloc[i,:]))\n",
    "    \n",
    "for i in range(0, x_test.shape[0]):\n",
    "    x_test.iloc[i,:] = (x_test.iloc[i,:] - min(x_test.iloc[i,:])) / (max(x_test.iloc[i,:]) - min(x_test.iloc[i,:]))\n",
    "    "
   ]
  },
  {
   "cell_type": "code",
   "execution_count": 19,
   "metadata": {},
   "outputs": [],
   "source": [
    "x_train = np.array(x_train)\n",
    "x_test = np.array(x_test)"
   ]
  },
  {
   "cell_type": "code",
   "execution_count": 20,
   "metadata": {},
   "outputs": [
    {
     "data": {
      "text/plain": [
       "(75, 501)"
      ]
     },
     "execution_count": 20,
     "metadata": {},
     "output_type": "execute_result"
    }
   ],
   "source": [
    "x_train.shape"
   ]
  },
  {
   "cell_type": "code",
   "execution_count": 21,
   "metadata": {},
   "outputs": [
    {
     "name": "stdout",
     "output_type": "stream",
     "text": [
      "(75, 501, 1) (75,) (33, 501, 1) (33,)\n"
     ]
    }
   ],
   "source": [
    "# reshape input to be 3D [samples, timesteps, features]\n",
    "x_train = x_train.reshape((x_train.shape[0], x_train.shape[1], 1))\n",
    "x_test = x_test.reshape((x_test.shape[0], x_test.shape[1], 1))\n",
    "\n",
    "print(x_train.shape, y_train.shape, x_test.shape, y_test.shape)"
   ]
  },
  {
   "cell_type": "code",
   "execution_count": 22,
   "metadata": {
    "scrolled": true
   },
   "outputs": [
    {
     "name": "stdout",
     "output_type": "stream",
     "text": [
      "Train on 75 samples, validate on 33 samples\n",
      "Epoch 1/200\n",
      " - 2s - loss: 4.1034 - acc: 0.5200 - val_loss: 4.0914 - val_acc: 0.5455\n",
      "\n",
      "Epoch 00001: val_loss improved from inf to 4.09145, saving model to ./LSTM_Final_Model_2.h5\n",
      "Epoch 2/200\n",
      " - 1s - loss: 4.0891 - acc: 0.5067 - val_loss: 4.0789 - val_acc: 0.5455\n",
      "\n",
      "Epoch 00002: val_loss improved from 4.09145 to 4.07887, saving model to ./LSTM_Final_Model_2.h5\n",
      "Epoch 3/200\n",
      " - 1s - loss: 4.0757 - acc: 0.5333 - val_loss: 4.0659 - val_acc: 0.5455\n",
      "\n",
      "Epoch 00003: val_loss improved from 4.07887 to 4.06588, saving model to ./LSTM_Final_Model_2.h5\n",
      "Epoch 4/200\n",
      " - 1s - loss: 4.0635 - acc: 0.5333 - val_loss: 4.0521 - val_acc: 0.5455\n",
      "\n",
      "Epoch 00004: val_loss improved from 4.06588 to 4.05213, saving model to ./LSTM_Final_Model_2.h5\n",
      "Epoch 5/200\n",
      " - 1s - loss: 4.0512 - acc: 0.5333 - val_loss: 4.0371 - val_acc: 0.5455\n",
      "\n",
      "Epoch 00005: val_loss improved from 4.05213 to 4.03706, saving model to ./LSTM_Final_Model_2.h5\n",
      "Epoch 6/200\n",
      " - 1s - loss: 4.0378 - acc: 0.5333 - val_loss: 4.0197 - val_acc: 0.5455\n",
      "\n",
      "Epoch 00006: val_loss improved from 4.03706 to 4.01971, saving model to ./LSTM_Final_Model_2.h5\n",
      "Epoch 7/200\n",
      " - 1s - loss: 4.0164 - acc: 0.5333 - val_loss: 3.9984 - val_acc: 0.5455\n",
      "\n",
      "Epoch 00007: val_loss improved from 4.01971 to 3.99841, saving model to ./LSTM_Final_Model_2.h5\n",
      "Epoch 8/200\n",
      " - 1s - loss: 3.9994 - acc: 0.5333 - val_loss: 3.9716 - val_acc: 0.5455\n",
      "\n",
      "Epoch 00008: val_loss improved from 3.99841 to 3.97163, saving model to ./LSTM_Final_Model_2.h5\n",
      "Epoch 9/200\n",
      " - 1s - loss: 3.9811 - acc: 0.5333 - val_loss: 3.9435 - val_acc: 0.5455\n",
      "\n",
      "Epoch 00009: val_loss improved from 3.97163 to 3.94348, saving model to ./LSTM_Final_Model_2.h5\n",
      "Epoch 10/200\n",
      " - 1s - loss: 3.9544 - acc: 0.5333 - val_loss: 3.9386 - val_acc: 0.5455\n",
      "\n",
      "Epoch 00010: val_loss improved from 3.94348 to 3.93859, saving model to ./LSTM_Final_Model_2.h5\n",
      "Epoch 11/200\n",
      " - 1s - loss: 3.9664 - acc: 0.5333 - val_loss: 3.9328 - val_acc: 0.5455\n",
      "\n",
      "Epoch 00011: val_loss improved from 3.93859 to 3.93280, saving model to ./LSTM_Final_Model_2.h5\n",
      "Epoch 12/200\n",
      " - 1s - loss: 3.9666 - acc: 0.5333 - val_loss: 3.9030 - val_acc: 0.5455\n",
      "\n",
      "Epoch 00012: val_loss improved from 3.93280 to 3.90304, saving model to ./LSTM_Final_Model_2.h5\n",
      "Epoch 13/200\n",
      " - 1s - loss: 3.9311 - acc: 0.5333 - val_loss: 3.8722 - val_acc: 0.5455\n",
      "\n",
      "Epoch 00013: val_loss improved from 3.90304 to 3.87225, saving model to ./LSTM_Final_Model_2.h5\n",
      "Epoch 14/200\n",
      " - 1s - loss: 3.9084 - acc: 0.5333 - val_loss: 3.8498 - val_acc: 0.5455\n",
      "\n",
      "Epoch 00014: val_loss improved from 3.87225 to 3.84985, saving model to ./LSTM_Final_Model_2.h5\n",
      "Epoch 15/200\n",
      " - 1s - loss: 3.8828 - acc: 0.5333 - val_loss: 3.8282 - val_acc: 0.5455\n",
      "\n",
      "Epoch 00015: val_loss improved from 3.84985 to 3.82823, saving model to ./LSTM_Final_Model_2.h5\n",
      "Epoch 16/200\n",
      " - 1s - loss: 3.8562 - acc: 0.5333 - val_loss: 3.7990 - val_acc: 0.5455\n",
      "\n",
      "Epoch 00016: val_loss improved from 3.82823 to 3.79898, saving model to ./LSTM_Final_Model_2.h5\n",
      "Epoch 17/200\n",
      " - 1s - loss: 3.8490 - acc: 0.5333 - val_loss: 3.7698 - val_acc: 0.5455\n",
      "\n",
      "Epoch 00017: val_loss improved from 3.79898 to 3.76977, saving model to ./LSTM_Final_Model_2.h5\n",
      "Epoch 18/200\n",
      " - 1s - loss: 3.8262 - acc: 0.5333 - val_loss: 3.7456 - val_acc: 0.5455\n",
      "\n",
      "Epoch 00018: val_loss improved from 3.76977 to 3.74560, saving model to ./LSTM_Final_Model_2.h5\n",
      "Epoch 19/200\n",
      " - 1s - loss: 3.8220 - acc: 0.5333 - val_loss: 3.7122 - val_acc: 0.6061\n",
      "\n",
      "Epoch 00019: val_loss improved from 3.74560 to 3.71223, saving model to ./LSTM_Final_Model_2.h5\n",
      "Epoch 20/200\n",
      " - 1s - loss: 3.7881 - acc: 0.5733 - val_loss: 3.6909 - val_acc: 0.7273\n",
      "\n",
      "Epoch 00020: val_loss improved from 3.71223 to 3.69093, saving model to ./LSTM_Final_Model_2.h5\n",
      "Epoch 21/200\n",
      " - 1s - loss: 3.7512 - acc: 0.6400 - val_loss: 3.6668 - val_acc: 0.9091\n",
      "\n",
      "Epoch 00021: val_loss improved from 3.69093 to 3.66680, saving model to ./LSTM_Final_Model_2.h5\n",
      "Epoch 22/200\n",
      " - 1s - loss: 3.7309 - acc: 0.7467 - val_loss: 3.6349 - val_acc: 0.8485\n",
      "\n",
      "Epoch 00022: val_loss improved from 3.66680 to 3.63491, saving model to ./LSTM_Final_Model_2.h5\n",
      "Epoch 23/200\n",
      " - 1s - loss: 3.7222 - acc: 0.7733 - val_loss: 3.6131 - val_acc: 0.8485\n",
      "\n",
      "Epoch 00023: val_loss improved from 3.63491 to 3.61314, saving model to ./LSTM_Final_Model_2.h5\n",
      "Epoch 24/200\n",
      " - 1s - loss: 3.7206 - acc: 0.7600 - val_loss: 3.5915 - val_acc: 0.9394\n",
      "\n",
      "Epoch 00024: val_loss improved from 3.61314 to 3.59149, saving model to ./LSTM_Final_Model_2.h5\n",
      "Epoch 25/200\n",
      " - 1s - loss: 3.6943 - acc: 0.8133 - val_loss: 3.5776 - val_acc: 0.9697\n",
      "\n",
      "Epoch 00025: val_loss improved from 3.59149 to 3.57755, saving model to ./LSTM_Final_Model_2.h5\n",
      "Epoch 26/200\n",
      " - 1s - loss: 3.6602 - acc: 0.8533 - val_loss: 3.5571 - val_acc: 0.9697\n",
      "\n",
      "Epoch 00026: val_loss improved from 3.57755 to 3.55714, saving model to ./LSTM_Final_Model_2.h5\n",
      "Epoch 27/200\n",
      " - 1s - loss: 3.6506 - acc: 0.8533 - val_loss: 3.5340 - val_acc: 0.9697\n",
      "\n",
      "Epoch 00027: val_loss improved from 3.55714 to 3.53398, saving model to ./LSTM_Final_Model_2.h5\n",
      "Epoch 28/200\n",
      " - 1s - loss: 3.6425 - acc: 0.8400 - val_loss: 3.5168 - val_acc: 0.9091\n",
      "\n",
      "Epoch 00028: val_loss improved from 3.53398 to 3.51678, saving model to ./LSTM_Final_Model_2.h5\n",
      "Epoch 29/200\n",
      " - 1s - loss: 3.6348 - acc: 0.8267 - val_loss: 3.4984 - val_acc: 0.9697\n",
      "\n",
      "Epoch 00029: val_loss improved from 3.51678 to 3.49842, saving model to ./LSTM_Final_Model_2.h5\n",
      "Epoch 30/200\n",
      " - 1s - loss: 3.6072 - acc: 0.8533 - val_loss: 3.4813 - val_acc: 1.0000\n",
      "\n",
      "Epoch 00030: val_loss improved from 3.49842 to 3.48130, saving model to ./LSTM_Final_Model_2.h5\n",
      "Epoch 31/200\n",
      " - 1s - loss: 3.5847 - acc: 0.8267 - val_loss: 3.4646 - val_acc: 1.0000\n",
      "\n",
      "Epoch 00031: val_loss improved from 3.48130 to 3.46460, saving model to ./LSTM_Final_Model_2.h5\n",
      "Epoch 32/200\n",
      " - 1s - loss: 3.5739 - acc: 0.8800 - val_loss: 3.4494 - val_acc: 0.9394\n",
      "\n",
      "Epoch 00032: val_loss improved from 3.46460 to 3.44940, saving model to ./LSTM_Final_Model_2.h5\n",
      "Epoch 33/200\n",
      " - 1s - loss: 3.5640 - acc: 0.8533 - val_loss: 3.4326 - val_acc: 1.0000\n",
      "\n",
      "Epoch 00033: val_loss improved from 3.44940 to 3.43256, saving model to ./LSTM_Final_Model_2.h5\n",
      "Epoch 34/200\n",
      " - 1s - loss: 3.5413 - acc: 0.8533 - val_loss: 3.4172 - val_acc: 1.0000\n",
      "\n",
      "Epoch 00034: val_loss improved from 3.43256 to 3.41716, saving model to ./LSTM_Final_Model_2.h5\n",
      "Epoch 35/200\n",
      " - 1s - loss: 3.5197 - acc: 0.8933 - val_loss: 3.4034 - val_acc: 0.9697\n",
      "\n",
      "Epoch 00035: val_loss improved from 3.41716 to 3.40341, saving model to ./LSTM_Final_Model_2.h5\n",
      "Epoch 36/200\n",
      " - 1s - loss: 3.5239 - acc: 0.8533 - val_loss: 3.3890 - val_acc: 0.9697\n",
      "\n",
      "Epoch 00036: val_loss improved from 3.40341 to 3.38898, saving model to ./LSTM_Final_Model_2.h5\n",
      "Epoch 37/200\n",
      " - 1s - loss: 3.5004 - acc: 0.8667 - val_loss: 3.3746 - val_acc: 1.0000\n",
      "\n",
      "Epoch 00037: val_loss improved from 3.38898 to 3.37459, saving model to ./LSTM_Final_Model_2.h5\n",
      "Epoch 38/200\n",
      " - 1s - loss: 3.4775 - acc: 0.8933 - val_loss: 3.3631 - val_acc: 0.9697\n",
      "\n",
      "Epoch 00038: val_loss improved from 3.37459 to 3.36312, saving model to ./LSTM_Final_Model_2.h5\n",
      "Epoch 39/200\n",
      " - 1s - loss: 3.4606 - acc: 0.8400 - val_loss: 3.3541 - val_acc: 0.9697\n",
      "\n",
      "Epoch 00039: val_loss improved from 3.36312 to 3.35413, saving model to ./LSTM_Final_Model_2.h5\n",
      "Epoch 40/200\n",
      " - 1s - loss: 3.4707 - acc: 0.8133 - val_loss: 3.3369 - val_acc: 1.0000\n",
      "\n",
      "Epoch 00040: val_loss improved from 3.35413 to 3.33686, saving model to ./LSTM_Final_Model_2.h5\n",
      "Epoch 41/200\n",
      " - 1s - loss: 3.4320 - acc: 0.9067 - val_loss: 3.3238 - val_acc: 1.0000\n",
      "\n",
      "Epoch 00041: val_loss improved from 3.33686 to 3.32384, saving model to ./LSTM_Final_Model_2.h5\n",
      "Epoch 42/200\n",
      " - 1s - loss: 3.4182 - acc: 0.9333 - val_loss: 3.3111 - val_acc: 1.0000\n",
      "\n",
      "Epoch 00042: val_loss improved from 3.32384 to 3.31107, saving model to ./LSTM_Final_Model_2.h5\n",
      "Epoch 43/200\n",
      " - 1s - loss: 3.4022 - acc: 0.8800 - val_loss: 3.2966 - val_acc: 1.0000\n",
      "\n",
      "Epoch 00043: val_loss improved from 3.31107 to 3.29657, saving model to ./LSTM_Final_Model_2.h5\n",
      "Epoch 44/200\n",
      " - 1s - loss: 3.3822 - acc: 0.9067 - val_loss: 3.2806 - val_acc: 1.0000\n",
      "\n",
      "Epoch 00044: val_loss improved from 3.29657 to 3.28057, saving model to ./LSTM_Final_Model_2.h5\n",
      "Epoch 45/200\n",
      " - 1s - loss: 3.3741 - acc: 0.9067 - val_loss: 3.2630 - val_acc: 1.0000\n",
      "\n",
      "Epoch 00045: val_loss improved from 3.28057 to 3.26303, saving model to ./LSTM_Final_Model_2.h5\n",
      "Epoch 46/200\n",
      " - 1s - loss: 3.3551 - acc: 0.9467 - val_loss: 3.2460 - val_acc: 1.0000\n",
      "\n",
      "Epoch 00046: val_loss improved from 3.26303 to 3.24598, saving model to ./LSTM_Final_Model_2.h5\n",
      "Epoch 47/200\n",
      " - 1s - loss: 3.3434 - acc: 0.9200 - val_loss: 3.2299 - val_acc: 1.0000\n",
      "\n",
      "Epoch 00047: val_loss improved from 3.24598 to 3.22987, saving model to ./LSTM_Final_Model_2.h5\n",
      "Epoch 48/200\n",
      " - 1s - loss: 3.3212 - acc: 0.9067 - val_loss: 3.2132 - val_acc: 1.0000\n",
      "\n",
      "Epoch 00048: val_loss improved from 3.22987 to 3.21325, saving model to ./LSTM_Final_Model_2.h5\n",
      "Epoch 49/200\n",
      " - 1s - loss: 3.3089 - acc: 0.9200 - val_loss: 3.1990 - val_acc: 1.0000\n",
      "\n",
      "Epoch 00049: val_loss improved from 3.21325 to 3.19897, saving model to ./LSTM_Final_Model_2.h5\n",
      "Epoch 50/200\n",
      " - 1s - loss: 3.2978 - acc: 0.9067 - val_loss: 3.1870 - val_acc: 1.0000\n",
      "\n",
      "Epoch 00050: val_loss improved from 3.19897 to 3.18697, saving model to ./LSTM_Final_Model_2.h5\n",
      "Epoch 51/200\n",
      " - 1s - loss: 3.2935 - acc: 0.9333 - val_loss: 3.1725 - val_acc: 1.0000\n",
      "\n",
      "Epoch 00051: val_loss improved from 3.18697 to 3.17249, saving model to ./LSTM_Final_Model_2.h5\n",
      "Epoch 52/200\n",
      " - 1s - loss: 3.2559 - acc: 0.9467 - val_loss: 3.1603 - val_acc: 1.0000\n",
      "\n",
      "Epoch 00052: val_loss improved from 3.17249 to 3.16034, saving model to ./LSTM_Final_Model_2.h5\n",
      "Epoch 53/200\n",
      " - 1s - loss: 3.2439 - acc: 0.9467 - val_loss: 3.1531 - val_acc: 1.0000\n",
      "\n",
      "Epoch 00053: val_loss improved from 3.16034 to 3.15305, saving model to ./LSTM_Final_Model_2.h5\n",
      "Epoch 54/200\n",
      " - 1s - loss: 3.2653 - acc: 0.9067 - val_loss: 3.1492 - val_acc: 1.0000\n",
      "\n",
      "Epoch 00054: val_loss improved from 3.15305 to 3.14918, saving model to ./LSTM_Final_Model_2.h5\n",
      "Epoch 55/200\n",
      " - 1s - loss: 3.2310 - acc: 0.9333 - val_loss: 3.1405 - val_acc: 0.9697\n",
      "\n",
      "Epoch 00055: val_loss improved from 3.14918 to 3.14050, saving model to ./LSTM_Final_Model_2.h5\n",
      "Epoch 56/200\n",
      " - 1s - loss: 3.2683 - acc: 0.8800 - val_loss: 3.1430 - val_acc: 0.9697\n",
      "\n",
      "Epoch 00056: val_loss did not improve from 3.14050\n",
      "Epoch 57/200\n",
      " - 1s - loss: 3.3332 - acc: 0.7867 - val_loss: 3.2103 - val_acc: 0.9697\n",
      "\n",
      "Epoch 00057: val_loss did not improve from 3.14050\n",
      "Epoch 58/200\n",
      " - 1s - loss: 3.2757 - acc: 0.8800 - val_loss: 3.2205 - val_acc: 0.9394\n",
      "\n",
      "Epoch 00058: val_loss did not improve from 3.14050\n",
      "Epoch 59/200\n",
      " - 1s - loss: 3.2653 - acc: 0.8667 - val_loss: 3.0928 - val_acc: 1.0000\n",
      "\n",
      "Epoch 00059: val_loss improved from 3.14050 to 3.09280, saving model to ./LSTM_Final_Model_2.h5\n",
      "Epoch 60/200\n",
      " - 1s - loss: 3.2025 - acc: 0.9200 - val_loss: 3.1784 - val_acc: 0.9091\n",
      "\n",
      "Epoch 00060: val_loss did not improve from 3.09280\n",
      "Epoch 61/200\n",
      " - 1s - loss: 3.3687 - acc: 0.7733 - val_loss: 3.1125 - val_acc: 1.0000\n",
      "\n",
      "Epoch 00061: val_loss did not improve from 3.09280\n",
      "Epoch 62/200\n",
      " - 1s - loss: 3.1828 - acc: 0.9467 - val_loss: 3.1206 - val_acc: 1.0000\n",
      "\n",
      "Epoch 00062: val_loss did not improve from 3.09280\n",
      "Epoch 63/200\n",
      " - 1s - loss: 3.2010 - acc: 0.9333 - val_loss: 3.0953 - val_acc: 1.0000\n",
      "\n",
      "Epoch 00063: val_loss did not improve from 3.09280\n",
      "Epoch 64/200\n",
      " - 1s - loss: 3.1795 - acc: 0.9333 - val_loss: 3.0977 - val_acc: 1.0000\n",
      "\n",
      "Epoch 00064: val_loss did not improve from 3.09280\n"
     ]
    }
   ],
   "source": [
    "# design network\n",
    "model = Sequential()\n",
    "model.add(LSTM(50, activation='tanh', input_shape=(501,1), kernel_initializer = 'he_normal', kernel_regularizer = regularizers.l2(0.01)))\n",
    "model.add(Dropout(0.3))\n",
    "model.add(Dense(1,activation='sigmoid', kernel_initializer = 'glorot_normal', kernel_regularizer = regularizers.l2(0.01)))\n",
    "\n",
    "model.compile(loss='binary_crossentropy', optimizer='adam', metrics=['acc'])\n",
    "\n",
    "early_stop = EarlyStopping(monitor='val_loss', patience=5, mode='min')\n",
    "model_check_point = ModelCheckpoint('./LSTM_Final_Model_2.h5', monitor = 'val_loss', verbose =2, save_best_only=True)\n",
    "callback_list = [early_stop,model_check_point]\n",
    "\n",
    "# fit network\n",
    "history = model.fit(x_train, y_train, epochs=200, batch_size=64, validation_data=(x_test, y_test), verbose=2, shuffle=False,\n",
    "                   callbacks = callback_list)"
   ]
  },
  {
   "cell_type": "code",
   "execution_count": 23,
   "metadata": {},
   "outputs": [
    {
     "data": {
      "image/png": "[encoded data removed]",
      "text/plain": [
       "<Figure size 432x288 with 1 Axes>"
      ]
     },
     "metadata": {},
     "output_type": "display_data"
    }
   ],
   "source": [
    "# plot history\n",
    "plt.plot(history.history['loss'], label='train')\n",
    "plt.plot(history.history['val_loss'], label='test')\n",
    "plt.xlabel('Epochs')\n",
    "plt.ylabel('Loss')\n",
    "plt.legend()\n",
    "plt.show()"
   ]
  },
  {
   "cell_type": "code",
   "execution_count": 24,
   "metadata": {},
   "outputs": [],
   "source": [
    "model = load_model('LSTM_Final_Model_2.h5')"
   ]
  },
  {
   "cell_type": "code",
   "execution_count": 25,
   "metadata": {},
   "outputs": [],
   "source": [
    "y_pred = model.predict_classes(x_test)"
   ]
  },
  {
   "cell_type": "code",
   "execution_count": 13,
   "metadata": {},
   "outputs": [
    {
     "name": "stderr",
     "output_type": "stream",
     "text": [
      "/usr/local/anaconda/envs/env_py3/lib/python3.6/site-packages/sklearn/metrics/classification.py:1135: UndefinedMetricWarning: Precision is ill-defined and being set to 0.0 due to no predicted samples.\n",
      "  'precision', 'predicted', average, warn_for)\n",
      "/usr/local/anaconda/envs/env_py3/lib/python3.6/site-packages/sklearn/metrics/classification.py:1135: UndefinedMetricWarning: F-score is ill-defined and being set to 0.0 due to no predicted samples.\n",
      "  'precision', 'predicted', average, warn_for)\n"
     ]
    }
   ],
   "source": [
    "acc_score = accuracy_score(y_test, y_pred, normalize=True, sample_weight=None)\n",
    "precision = precision_score(y_test, y_pred, pos_label=1)\n",
    "recall = recall_score(y_test, y_pred, pos_label=1)\n",
    "f_score = f1_score(y_test, y_pred, pos_label=1)\n",
    "conf_mat = confusion_matrix(y_test, y_pred)"
   ]
  },
  {
   "cell_type": "code",
   "execution_count": 14,
   "metadata": {},
   "outputs": [
    {
     "name": "stdout",
     "output_type": "stream",
     "text": [
      "[[18  0]\n",
      " [15  0]]\n",
      "0.5454545454545454\n",
      "0.0\n",
      "0.0\n",
      "0.0\n"
     ]
    }
   ],
   "source": [
    "print(conf_mat)\n",
    "print(acc_score)\n",
    "print(precision)\n",
    "print(recall)\n",
    "print(f_score)"
   ]
  },
  {
   "cell_type": "code",
   "execution_count": 55,
   "metadata": {},
   "outputs": [],
   "source": [
    "for i in range(0, raw_data.shape[0]):\n",
    "    raw_data.iloc[i,:-1] = (raw_data.iloc[i,:-1] - min(raw_data.iloc[i,:-1])) / (max(raw_data.iloc[i,:-1]) - min(raw_data.iloc[i,:-1]))"
   ]
  },
  {
   "cell_type": "code",
   "execution_count": 56,
   "metadata": {},
   "outputs": [],
   "source": [
    "raw_data_X = np.array(raw_data.iloc[:,:-1])\n",
    "raw_data_y = np.array(raw_data.iloc[:,501])"
   ]
  },
  {
   "cell_type": "code",
   "execution_count": 57,
   "metadata": {},
   "outputs": [],
   "source": [
    "raw_data_X = raw_data_X.reshape((raw_data_X.shape[0], raw_data_X.shape[1], 1))"
   ]
  },
  {
   "cell_type": "code",
   "execution_count": 4,
   "metadata": {},
   "outputs": [],
   "source": [
    "model = load_model('LSTM_Final_Model_2.h5')"
   ]
  },
  {
   "cell_type": "code",
   "execution_count": 6,
   "metadata": {},
   "outputs": [
    {
     "name": "stdout",
     "output_type": "stream",
     "text": [
      "_________________________________________________________________\n",
      "Layer (type)                 Output Shape              Param #   \n",
      "=================================================================\n",
      "lstm_1 (LSTM)                (None, 50)                10400     \n",
      "_________________________________________________________________\n",
      "dropout_1 (Dropout)          (None, 50)                0         \n",
      "_________________________________________________________________\n",
      "dense_1 (Dense)              (None, 1)                 51        \n",
      "=================================================================\n",
      "Total params: 10,451\n",
      "Trainable params: 10,451\n",
      "Non-trainable params: 0\n",
      "_________________________________________________________________\n"
     ]
    }
   ],
   "source": [
    "model.summary()"
   ]
  },
  {
   "cell_type": "code",
   "execution_count": 86,
   "metadata": {},
   "outputs": [],
   "source": [
    "kfold = StratifiedKFold(n_splits=5, shuffle=True, random_state = 500)\n",
    "X = raw_data_X\n",
    "Y = raw_data_y\n",
    "\n",
    "cv_acc = []\n",
    "cv_precision = []\n",
    "cv_recall = []\n",
    "cv_f1 = []"
   ]
  },
  {
   "cell_type": "code",
   "execution_count": 87,
   "metadata": {},
   "outputs": [],
   "source": [
    "for train, test in kfold.split(X, Y):\n",
    "    \n",
    "    # evaluate the model\n",
    "    y_pred = model.predict_classes(X[test])\n",
    "    \n",
    "    accuracy = accuracy_score(Y[test], y_pred, normalize=True, sample_weight=None)\n",
    "    precision = precision_score(Y[test], y_pred, pos_label=1)\n",
    "    recall = recall_score(Y[test], y_pred, pos_label=1)\n",
    "    f_score = f1_score(Y[test], y_pred, pos_label=1)\n",
    "    \n",
    "    cv_acc.append(accuracy)\n",
    "    cv_precision.append(precision)\n",
    "    cv_recall.append(recall)\n",
    "    cv_f1.append(f_score)"
   ]
  },
  {
   "cell_type": "code",
   "execution_count": 88,
   "metadata": {},
   "outputs": [
    {
     "name": "stdout",
     "output_type": "stream",
     "text": [
      "accuracy: 0.9619047619047618\n",
      "precision: 0.9595959595959596\n",
      "recall: 0.96\n",
      "f1: 0.9588972431077695\n",
      "\n",
      "\n"
     ]
    }
   ],
   "source": [
    "print('accuracy:', np.mean(cv_acc))\n",
    "print('precision:', np.mean(cv_precision))\n",
    "print('recall:', np.mean(cv_recall))\n",
    "print('f1:', np.mean(cv_f1))\n",
    "print('\\n')"
   ]
  },
  {
   "cell_type": "code",
   "execution_count": null,
   "metadata": {},
   "outputs": [],
   "source": []
  }
 ],
 "metadata": {
  "kernelspec": {
   "display_name": "Python 3 (base)",
   "language": "python",
   "name": "python3"
  },
  "language_info": {
   "codemirror_mode": {
    "name": "ipython",
    "version": 3
   },
   "file_extension": ".py",
   "mimetype": "text/x-python",
   "name": "python",
   "nbconvert_exporter": "python",
   "pygments_lexer": "ipython3",
   "version": "3.6.6"
  }
 },
 "nbformat": 4,
 "nbformat_minor": 2
}
