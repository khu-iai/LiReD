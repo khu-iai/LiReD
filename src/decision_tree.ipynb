{
 "cells": [
  {
   "cell_type": "code",
   "execution_count": 6,
   "metadata": {
    "collapsed": true
   },
   "outputs": [],
   "source": [
    "import pandas as pd\n",
    "from sklearn.tree import DecisionTreeClassifier\n",
    "from sklearn.model_selection import train_test_split,GridSearchCV\n",
    "from sklearn.metrics import accuracy_score, f1_score, confusion_matrix, precision_score, recall_score"
   ]
  },
  {
   "cell_type": "code",
   "execution_count": 7,
   "metadata": {
    "collapsed": true
   },
   "outputs": [],
   "source": [
    "raw_data = pd.read_csv('final_data.csv')\n",
    "\n",
    "x = raw_data.iloc[:, 0:501]\n",
    "y = raw_data.iloc[:, 501]"
   ]
  },
  {
   "cell_type": "code",
   "execution_count": 8,
   "metadata": {},
   "outputs": [],
   "source": [
    "# train/test로 데이터 나누기\n",
    "seed = 7\n",
    "test_size = 0.3\n",
    "x_train, x_test, y_train, y_test = train_test_split(x, y, test_size = test_size, random_state=seed)"
   ]
  },
  {
   "cell_type": "code",
   "execution_count": 9,
   "metadata": {},
   "outputs": [
    {
     "data": {
      "text/plain": [
       "DecisionTreeClassifier(class_weight=None, criterion='gini', max_depth=None,\n",
       "            max_features=None, max_leaf_nodes=None,\n",
       "            min_impurity_decrease=0.0, min_impurity_split=None,\n",
       "            min_samples_leaf=1, min_samples_split=2,\n",
       "            min_weight_fraction_leaf=0.0, presort=False, random_state=None,\n",
       "            splitter='best')"
      ]
     },
     "execution_count": 9,
     "metadata": {},
     "output_type": "execute_result"
    }
   ],
   "source": [
    "dtree = DecisionTreeClassifier()\n",
    "dtree.fit(x_train, y_train)"
   ]
  },
  {
   "cell_type": "code",
   "execution_count": 10,
   "metadata": {
    "collapsed": true
   },
   "outputs": [],
   "source": [
    "y_pred = dtree.predict(x_test)"
   ]
  },
  {
   "cell_type": "code",
   "execution_count": 11,
   "metadata": {},
   "outputs": [],
   "source": [
    "#n_estimators = [int(x) for x in np.linspace(start = 200, stop = 350, num = 10)]\n",
    "\n",
    "# Number of features to consider at every split\n",
    "#max_features = ['auto', 'sqrt']\n",
    "\n",
    "# Maximum number of levels in tree\n",
    "max_depth = [3,4,5,6,None]\n",
    "\n",
    "# Minimum number of samples required to split a node\n",
    "#min_samples_split = [3,4,5]\n",
    "\n",
    "# Minimum number of samples required at each leaf node\n",
    "#min_samples_leaf = [1, 2, 3]\n",
    "\n",
    "# Method of selecting samples for training each tree\n",
    "#bootstrap = [True]\n",
    "\n",
    "# Create the random grid\n",
    "#random_grid = {'n_estimators': n_estimators,\n",
    "     #          'max_features': max_features,\n",
    "      #         'max_depth': max_depth,\n",
    "       #        'min_samples_split': min_samples_split,\n",
    "        #       'min_samples_leaf': min_samples_leaf,\n",
    "         #      'bootstrap': bootstrap}\n",
    "\n",
    "#pprint(random_grid)"
   ]
  },
  {
   "cell_type": "code",
   "execution_count": 12,
   "metadata": {},
   "outputs": [],
   "source": [
    "dt_random = GridSearchCV(estimator = dtree, param_grid = {'max_depth':max_depth}, scoring = 'accuracy',\n",
    "                        cv = 5, verbose=2, n_jobs = 4)"
   ]
  },
  {
   "cell_type": "code",
   "execution_count": 13,
   "metadata": {},
   "outputs": [
    {
     "name": "stdout",
     "output_type": "stream",
     "text": [
      "Fitting 5 folds for each of 5 candidates, totalling 25 fits\n",
      "[CV] max_depth=3 .....................................................\n",
      "[CV] max_depth=3 .....................................................\n",
      "[CV] ...................................... max_depth=3, total=   0.0s\n",
      "[CV] max_depth=3 .....................................................\n",
      "[CV] ...................................... max_depth=3, total=   0.0s\n",
      "[CV] max_depth=3 .....................................................\n",
      "[CV] max_depth=3 .....................................................\n",
      "[CV] ...................................... max_depth=3, total=   0.0s\n",
      "[CV] ...................................... max_depth=3, total=   0.0s\n",
      "[CV] max_depth=4 .....................................................\n",
      "[CV] max_depth=4 .....................................................\n",
      "[CV] ...................................... max_depth=3, total=   0.0s\n",
      "[CV] max_depth=4 .....................................................\n",
      "[CV] ...................................... max_depth=4, total=   0.0s\n",
      "[CV] ...................................... max_depth=4, total=   0.0s\n",
      "[CV] ...................................... max_depth=4, total=   0.0s\n",
      "[CV] max_depth=4 .....................................................\n",
      "[CV] max_depth=None ..................................................\n",
      "[CV] ...................................... max_depth=4, total=   0.0s\n",
      "[CV] max_depth=4 .....................................................\n",
      "[CV] ................................... max_depth=None, total=   0.0s\n",
      "[CV] ...................................... max_depth=4, total=   0.0s\n",
      "[CV] max_depth=None ..................................................\n",
      "[CV] max_depth=5 .....................................................\n",
      "[CV] ...................................... max_depth=5, total=   0.0s\n",
      "[CV] ................................... max_depth=None, total=   0.0s\n",
      "[CV] max_depth=5 .....................................................\n",
      "[CV] max_depth=None ..................................................\n",
      "[CV] ...................................... max_depth=5, total=   0.0s\n",
      "[CV] ................................... max_depth=None, total=   0.0s\n",
      "[CV] max_depth=5 .....................................................\n",
      "[CV] ...................................... max_depth=5, total=   0.0s\n",
      "[CV] max_depth=5 .....................................................\n",
      "[CV] ...................................... max_depth=5, total=   0.0s\n",
      "[CV] max_depth=5 .....................................................\n",
      "[CV] ...................................... max_depth=5, total=   0.0s\n",
      "[CV] max_depth=6 .....................................................\n",
      "[CV] ...................................... max_depth=6, total=   0.0s\n",
      "[CV] max_depth=6 .....................................................\n",
      "[CV] ...................................... max_depth=6, total=   0.0s\n",
      "[CV] max_depth=6 .....................................................\n",
      "[CV] ...................................... max_depth=6, total=   0.0s\n",
      "[CV] max_depth=6 .....................................................\n",
      "[CV] ...................................... max_depth=6, total=   0.0s\n",
      "[CV] max_depth=6 .....................................................\n",
      "[CV] ...................................... max_depth=6, total=   0.0s\n",
      "[CV] max_depth=None ..................................................\n",
      "[CV] ................................... max_depth=None, total=   0.0s\n",
      "[CV] max_depth=None ..................................................\n",
      "[CV] ................................... max_depth=None, total=   0.0s\n"
     ]
    },
    {
     "name": "stderr",
     "output_type": "stream",
     "text": [
      "[Parallel(n_jobs=4)]: Done   5 out of  25 | elapsed:    0.1s remaining:    0.3s\n",
      "[Parallel(n_jobs=4)]: Done  25 out of  25 | elapsed:    0.2s finished\n"
     ]
    },
    {
     "data": {
      "text/plain": [
       "GridSearchCV(cv=5, error_score='raise',\n",
       "       estimator=DecisionTreeClassifier(class_weight=None, criterion='gini', max_depth=None,\n",
       "            max_features=None, max_leaf_nodes=None,\n",
       "            min_impurity_decrease=0.0, min_impurity_split=None,\n",
       "            min_samples_leaf=1, min_samples_split=2,\n",
       "            min_weight_fraction_leaf=0.0, presort=False, random_state=None,\n",
       "            splitter='best'),\n",
       "       fit_params=None, iid=True, n_jobs=4,\n",
       "       param_grid={'max_depth': [3, 4, 5, 6, None]},\n",
       "       pre_dispatch='2*n_jobs', refit=True, return_train_score='warn',\n",
       "       scoring='accuracy', verbose=2)"
      ]
     },
     "execution_count": 13,
     "metadata": {},
     "output_type": "execute_result"
    }
   ],
   "source": [
    "dt_random.fit(x_train, y_train)"
   ]
  },
  {
   "cell_type": "code",
   "execution_count": 14,
   "metadata": {},
   "outputs": [
    {
     "name": "stdout",
     "output_type": "stream",
     "text": [
      "{'max_depth': 6}\n"
     ]
    }
   ],
   "source": [
    "print(dt_random.best_params_)"
   ]
  },
  {
   "cell_type": "code",
   "execution_count": 17,
   "metadata": {},
   "outputs": [],
   "source": [
    "y_pred = dt_random.predict(x_test)"
   ]
  },
  {
   "cell_type": "code",
   "execution_count": 18,
   "metadata": {},
   "outputs": [],
   "source": [
    "acc = accuracy_score(y_test, y_pred)\n",
    "confusion_mat = confusion_matrix(y_test, y_pred)\n",
    "f_score = f1_score(y_test, y_pred)\n",
    "precision = precision_score(y_test,y_pred)\n",
    "recall = recall_score(y_test,y_pred)"
   ]
  },
  {
   "cell_type": "code",
   "execution_count": 19,
   "metadata": {},
   "outputs": [
    {
     "name": "stdout",
     "output_type": "stream",
     "text": [
      "[[15  4]\n",
      " [ 5  9]]\n",
      "acc: 0.7272727272727273\n",
      "precision: 0.6923076923076923\n",
      "recall: 0.6428571428571429\n",
      "fscore: 0.6666666666666666\n"
     ]
    }
   ],
   "source": [
    "print(confusion_mat)\n",
    "print('acc:', acc)\n",
    "print('precision:',precision)\n",
    "print('recall:',recall)\n",
    "print('fscore:',f_score)"
   ]
  },
  {
   "cell_type": "code",
   "execution_count": null,
   "metadata": {
    "collapsed": true
   },
   "outputs": [],
   "source": []
  },
  {
   "cell_type": "code",
   "execution_count": null,
   "metadata": {},
   "outputs": [],
   "source": []
  }
 ],
 "metadata": {
  "kernelspec": {
   "display_name": "Python 3",
   "language": "python",
   "name": "python3"
  },
  "language_info": {
   "codemirror_mode": {
    "name": "ipython",
    "version": 3
   },
   "file_extension": ".py",
   "mimetype": "text/x-python",
   "name": "python",
   "nbconvert_exporter": "python",
   "pygments_lexer": "ipython3",
   "version": "3.6.5"
  }
 },
 "nbformat": 4,
 "nbformat_minor": 2
}
