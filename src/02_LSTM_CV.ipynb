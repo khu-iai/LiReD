{
 "cells": [
  {
   "cell_type": "code",
   "execution_count": 2,
   "metadata": {},
   "outputs": [
    {
     "name": "stderr",
     "output_type": "stream",
     "text": [
      "Using TensorFlow backend.\n"
     ]
    }
   ],
   "source": [
    "# 0. 사용할 패키지 불러오기\n",
    "import numpy as np\n",
    "import pandas as pd\n",
    "import matplotlib.pyplot as plt\n",
    "\n",
    "from sklearn.model_selection import train_test_split, RepeatedStratifiedKFold, cross_validate, StratifiedKFold\n",
    "from keras.layers.embeddings import Embedding\n",
    "from sklearn.metrics import accuracy_score, f1_score, confusion_matrix, precision_score, recall_score\n",
    "\n",
    "from keras.preprocessing import sequence\n",
    "from keras.models import Sequential\n",
    "from keras.layers import Dense, Embedding, LSTM, Dropout\n",
    "from keras.layers import Flatten\n",
    "from keras.callbacks import EarlyStopping, ModelCheckpoint\n",
    "from keras.layers.normalization import BatchNormalization\n",
    "from keras.initializers import Initializer\n",
    "from keras import regularizers\n",
    "from keras.models import load_model"
   ]
  },
  {
   "cell_type": "code",
   "execution_count": 27,
   "metadata": {},
   "outputs": [],
   "source": [
    "raw_data = pd.read_csv('./final_data.csv')"
   ]
  },
  {
   "cell_type": "code",
   "execution_count": 28,
   "metadata": {},
   "outputs": [],
   "source": [
    "x_train, x_test, y_train, y_test = train_test_split(raw_data.iloc[:,0:501], raw_data.iloc[:,501],\n",
    "                                                    test_size = 0.2, stratify = raw_data.iloc[:,501], random_state = 7)\n"
   ]
  },
  {
   "cell_type": "code",
   "execution_count": 29,
   "metadata": {
    "scrolled": true
   },
   "outputs": [],
   "source": [
    "for i in range(0, x_train.shape[0]):\n",
    "    x_train.iloc[i,:] = (x_train.iloc[i,:] - min(x_train.iloc[i,:])) / (max(x_train.iloc[i,:]) - min(x_train.iloc[i,:]))\n",
    "    \n",
    "for i in range(0, x_test.shape[0]):\n",
    "    x_test.iloc[i,:] = (x_test.iloc[i,:] - min(x_test.iloc[i,:])) / (max(x_test.iloc[i,:]) - min(x_test.iloc[i,:]))\n",
    "    "
   ]
  },
  {
   "cell_type": "code",
   "execution_count": 30,
   "metadata": {},
   "outputs": [],
   "source": [
    "x_train = np.array(x_train)\n",
    "x_test = np.array(x_test)"
   ]
  },
  {
   "cell_type": "code",
   "execution_count": 31,
   "metadata": {},
   "outputs": [
    {
     "data": {
      "text/plain": [
       "(68, 501)"
      ]
     },
     "execution_count": 31,
     "metadata": {},
     "output_type": "execute_result"
    }
   ],
   "source": [
    "x_train.shape"
   ]
  },
  {
   "cell_type": "code",
   "execution_count": 32,
   "metadata": {},
   "outputs": [
    {
     "name": "stdout",
     "output_type": "stream",
     "text": [
      "(68, 501, 1) (68,) (22, 501, 1) (22,)\n"
     ]
    }
   ],
   "source": [
    "# reshape input to be 3D [samples, timesteps, features]\n",
    "x_train = x_train.reshape((x_train.shape[0], x_train.shape[1], 1))\n",
    "x_test = x_test.reshape((x_test.shape[0], x_test.shape[1], 1))\n",
    "\n",
    "print(x_train.shape, y_train.shape, x_test.shape, y_test.shape)"
   ]
  },
  {
   "cell_type": "code",
   "execution_count": 18,
   "metadata": {
    "scrolled": true
   },
   "outputs": [
    {
     "name": "stdout",
     "output_type": "stream",
     "text": [
      "Train on 68 samples, validate on 22 samples\n",
      "Epoch 1/200\n",
      " - 2s - loss: 3.2872 - acc: 0.4265 - val_loss: 3.2768 - val_acc: 0.2727\n",
      "\n",
      "Epoch 00001: val_loss improved from inf to 3.27676, saving model to ./LSTM_Final_Model_CV.h5\n",
      "Epoch 2/200\n",
      " - 1s - loss: 3.2762 - acc: 0.2941 - val_loss: 3.2665 - val_acc: 0.6364\n",
      "\n",
      "Epoch 00002: val_loss improved from 3.27676 to 3.26654, saving model to ./LSTM_Final_Model_CV.h5\n",
      "Epoch 3/200\n",
      " - 1s - loss: 3.2653 - acc: 0.6176 - val_loss: 3.2568 - val_acc: 0.6818\n",
      "\n",
      "Epoch 00003: val_loss improved from 3.26654 to 3.25683, saving model to ./LSTM_Final_Model_CV.h5\n",
      "Epoch 4/200\n",
      " - 1s - loss: 3.2552 - acc: 0.7647 - val_loss: 3.2469 - val_acc: 0.9091\n",
      "\n",
      "Epoch 00004: val_loss improved from 3.25683 to 3.24689, saving model to ./LSTM_Final_Model_CV.h5\n",
      "Epoch 5/200\n",
      " - 1s - loss: 3.2470 - acc: 0.8235 - val_loss: 3.2369 - val_acc: 0.9091\n",
      "\n",
      "Epoch 00005: val_loss improved from 3.24689 to 3.23686, saving model to ./LSTM_Final_Model_CV.h5\n",
      "Epoch 6/200\n",
      " - 1s - loss: 3.2359 - acc: 0.8235 - val_loss: 3.2266 - val_acc: 0.9091\n",
      "\n",
      "Epoch 00006: val_loss improved from 3.23686 to 3.22656, saving model to ./LSTM_Final_Model_CV.h5\n",
      "Epoch 7/200\n",
      " - 1s - loss: 3.2257 - acc: 0.9118 - val_loss: 3.2158 - val_acc: 0.9091\n",
      "\n",
      "Epoch 00007: val_loss improved from 3.22656 to 3.21578, saving model to ./LSTM_Final_Model_CV.h5\n",
      "Epoch 8/200\n",
      " - 1s - loss: 3.2158 - acc: 0.8824 - val_loss: 3.2041 - val_acc: 0.9091\n",
      "\n",
      "Epoch 00008: val_loss improved from 3.21578 to 3.20415, saving model to ./LSTM_Final_Model_CV.h5\n",
      "Epoch 9/200\n",
      " - 1s - loss: 3.2028 - acc: 0.8971 - val_loss: 3.1909 - val_acc: 1.0000\n",
      "\n",
      "Epoch 00009: val_loss improved from 3.20415 to 3.19091, saving model to ./LSTM_Final_Model_CV.h5\n",
      "Epoch 10/200\n",
      " - 1s - loss: 3.1915 - acc: 0.9559 - val_loss: 3.1751 - val_acc: 1.0000\n",
      "\n",
      "Epoch 00010: val_loss improved from 3.19091 to 3.17506, saving model to ./LSTM_Final_Model_CV.h5\n",
      "Epoch 11/200\n",
      " - 1s - loss: 3.1716 - acc: 0.9559 - val_loss: 3.1543 - val_acc: 1.0000\n",
      "\n",
      "Epoch 00011: val_loss improved from 3.17506 to 3.15433, saving model to ./LSTM_Final_Model_CV.h5\n",
      "Epoch 12/200\n",
      " - 1s - loss: 3.1539 - acc: 0.9559 - val_loss: 3.1251 - val_acc: 0.8182\n",
      "\n",
      "Epoch 00012: val_loss improved from 3.15433 to 3.12512, saving model to ./LSTM_Final_Model_CV.h5\n",
      "Epoch 13/200\n",
      " - 1s - loss: 3.1246 - acc: 0.9265 - val_loss: 3.0870 - val_acc: 0.6818\n",
      "\n",
      "Epoch 00013: val_loss improved from 3.12512 to 3.08701, saving model to ./LSTM_Final_Model_CV.h5\n",
      "Epoch 14/200\n",
      " - 1s - loss: 3.0883 - acc: 0.7500 - val_loss: 3.0586 - val_acc: 0.6364\n",
      "\n",
      "Epoch 00014: val_loss improved from 3.08701 to 3.05858, saving model to ./LSTM_Final_Model_CV.h5\n",
      "Epoch 15/200\n",
      " - 1s - loss: 3.0526 - acc: 0.6765 - val_loss: 3.0372 - val_acc: 0.6364\n",
      "\n",
      "Epoch 00015: val_loss improved from 3.05858 to 3.03717, saving model to ./LSTM_Final_Model_CV.h5\n",
      "Epoch 16/200\n",
      " - 1s - loss: 3.0348 - acc: 0.6912 - val_loss: 3.0067 - val_acc: 0.7273\n",
      "\n",
      "Epoch 00016: val_loss improved from 3.03717 to 3.00672, saving model to ./LSTM_Final_Model_CV.h5\n",
      "Epoch 17/200\n",
      " - 1s - loss: 2.9961 - acc: 0.7941 - val_loss: 2.9846 - val_acc: 0.8182\n",
      "\n",
      "Epoch 00017: val_loss improved from 3.00672 to 2.98463, saving model to ./LSTM_Final_Model_CV.h5\n",
      "Epoch 18/200\n",
      " - 1s - loss: 2.9913 - acc: 0.9265 - val_loss: 2.9544 - val_acc: 0.8636\n",
      "\n",
      "Epoch 00018: val_loss improved from 2.98463 to 2.95439, saving model to ./LSTM_Final_Model_CV.h5\n",
      "Epoch 19/200\n",
      " - 1s - loss: 2.9568 - acc: 0.9265 - val_loss: 2.9216 - val_acc: 0.8182\n",
      "\n",
      "Epoch 00019: val_loss improved from 2.95439 to 2.92159, saving model to ./LSTM_Final_Model_CV.h5\n",
      "Epoch 20/200\n",
      " - 1s - loss: 2.9164 - acc: 0.8971 - val_loss: 2.9006 - val_acc: 0.8182\n",
      "\n",
      "Epoch 00020: val_loss improved from 2.92159 to 2.90056, saving model to ./LSTM_Final_Model_CV.h5\n",
      "Epoch 21/200\n",
      " - 1s - loss: 2.8956 - acc: 0.8971 - val_loss: 2.8702 - val_acc: 0.9545\n",
      "\n",
      "Epoch 00021: val_loss improved from 2.90056 to 2.87018, saving model to ./LSTM_Final_Model_CV.h5\n",
      "Epoch 22/200\n",
      " - 1s - loss: 2.8755 - acc: 0.8676 - val_loss: 2.8482 - val_acc: 0.8182\n",
      "\n",
      "Epoch 00022: val_loss improved from 2.87018 to 2.84823, saving model to ./LSTM_Final_Model_CV.h5\n",
      "Epoch 23/200\n",
      " - 1s - loss: 2.8597 - acc: 0.8676 - val_loss: 2.8492 - val_acc: 0.8182\n",
      "\n",
      "Epoch 00023: val_loss did not improve from 2.84823\n",
      "Epoch 24/200\n",
      " - 1s - loss: 2.8410 - acc: 0.8676 - val_loss: 2.8027 - val_acc: 0.9091\n",
      "\n",
      "Epoch 00024: val_loss improved from 2.84823 to 2.80274, saving model to ./LSTM_Final_Model_CV.h5\n",
      "Epoch 25/200\n",
      " - 1s - loss: 2.8193 - acc: 0.8676 - val_loss: 2.7756 - val_acc: 0.9091\n",
      "\n",
      "Epoch 00025: val_loss improved from 2.80274 to 2.77557, saving model to ./LSTM_Final_Model_CV.h5\n",
      "Epoch 26/200\n",
      " - 1s - loss: 2.8056 - acc: 0.8382 - val_loss: 2.7494 - val_acc: 0.8636\n",
      "\n",
      "Epoch 00026: val_loss improved from 2.77557 to 2.74944, saving model to ./LSTM_Final_Model_CV.h5\n",
      "Epoch 27/200\n",
      " - 1s - loss: 2.7761 - acc: 0.8676 - val_loss: 2.7218 - val_acc: 0.9545\n",
      "\n",
      "Epoch 00027: val_loss improved from 2.74944 to 2.72182, saving model to ./LSTM_Final_Model_CV.h5\n",
      "Epoch 28/200\n",
      " - 1s - loss: 2.7503 - acc: 0.8676 - val_loss: 2.6939 - val_acc: 0.9545\n",
      "\n",
      "Epoch 00028: val_loss improved from 2.72182 to 2.69390, saving model to ./LSTM_Final_Model_CV.h5\n",
      "Epoch 29/200\n",
      " - 1s - loss: 2.7089 - acc: 0.9118 - val_loss: 2.6687 - val_acc: 1.0000\n",
      "\n",
      "Epoch 00029: val_loss improved from 2.69390 to 2.66866, saving model to ./LSTM_Final_Model_CV.h5\n",
      "Epoch 30/200\n",
      " - 1s - loss: 2.6770 - acc: 0.9412 - val_loss: 2.6585 - val_acc: 0.9091\n",
      "\n",
      "Epoch 00030: val_loss improved from 2.66866 to 2.65851, saving model to ./LSTM_Final_Model_CV.h5\n",
      "Epoch 31/200\n",
      " - 1s - loss: 2.6603 - acc: 0.9706 - val_loss: 2.6330 - val_acc: 0.9545\n",
      "\n",
      "Epoch 00031: val_loss improved from 2.65851 to 2.63298, saving model to ./LSTM_Final_Model_CV.h5\n",
      "Epoch 32/200\n",
      " - 1s - loss: 2.6400 - acc: 0.9118 - val_loss: 2.6449 - val_acc: 0.9091\n",
      "\n",
      "Epoch 00032: val_loss did not improve from 2.63298\n",
      "Epoch 33/200\n",
      " - 1s - loss: 2.6249 - acc: 0.9706 - val_loss: 2.6013 - val_acc: 0.9091\n",
      "\n",
      "Epoch 00033: val_loss improved from 2.63298 to 2.60134, saving model to ./LSTM_Final_Model_CV.h5\n",
      "Epoch 34/200\n",
      " - 1s - loss: 2.6091 - acc: 0.9559 - val_loss: 2.5736 - val_acc: 1.0000\n",
      "\n",
      "Epoch 00034: val_loss improved from 2.60134 to 2.57358, saving model to ./LSTM_Final_Model_CV.h5\n",
      "Epoch 35/200\n",
      " - 1s - loss: 2.6090 - acc: 0.9118 - val_loss: 2.6121 - val_acc: 0.9091\n",
      "\n",
      "Epoch 00035: val_loss did not improve from 2.57358\n",
      "Epoch 36/200\n",
      " - 1s - loss: 2.5808 - acc: 0.9559 - val_loss: 2.5531 - val_acc: 0.9091\n",
      "\n",
      "Epoch 00036: val_loss improved from 2.57358 to 2.55313, saving model to ./LSTM_Final_Model_CV.h5\n",
      "Epoch 37/200\n",
      " - 1s - loss: 2.5447 - acc: 0.9706 - val_loss: 2.5189 - val_acc: 1.0000\n",
      "\n",
      "Epoch 00037: val_loss improved from 2.55313 to 2.51891, saving model to ./LSTM_Final_Model_CV.h5\n",
      "Epoch 38/200\n",
      " - 1s - loss: 2.5360 - acc: 0.9265 - val_loss: 2.5820 - val_acc: 0.9091\n",
      "\n",
      "Epoch 00038: val_loss did not improve from 2.51891\n",
      "Epoch 39/200\n",
      " - 1s - loss: 2.5542 - acc: 0.9265 - val_loss: 2.5817 - val_acc: 0.8636\n",
      "\n",
      "Epoch 00039: val_loss did not improve from 2.51891\n",
      "Epoch 40/200\n",
      " - 1s - loss: 2.5606 - acc: 0.9118 - val_loss: 2.5490 - val_acc: 0.9091\n",
      "\n",
      "Epoch 00040: val_loss did not improve from 2.51891\n",
      "Epoch 41/200\n",
      " - 1s - loss: 2.5061 - acc: 0.9706 - val_loss: 2.5737 - val_acc: 0.9091\n",
      "\n",
      "Epoch 00041: val_loss did not improve from 2.51891\n",
      "Epoch 42/200\n",
      " - 1s - loss: 2.4948 - acc: 0.9559 - val_loss: 2.4452 - val_acc: 1.0000\n",
      "\n",
      "Epoch 00042: val_loss improved from 2.51891 to 2.44522, saving model to ./LSTM_Final_Model_CV.h5\n",
      "Epoch 43/200\n",
      " - 1s - loss: 2.4798 - acc: 0.9706 - val_loss: 2.4280 - val_acc: 1.0000\n",
      "\n",
      "Epoch 00043: val_loss improved from 2.44522 to 2.42795, saving model to ./LSTM_Final_Model_CV.h5\n",
      "Epoch 44/200\n",
      " - 1s - loss: 2.4808 - acc: 0.9706 - val_loss: 2.4638 - val_acc: 0.9545\n",
      "\n",
      "Epoch 00044: val_loss did not improve from 2.42795\n",
      "Epoch 45/200\n",
      " - 1s - loss: 2.4479 - acc: 0.9706 - val_loss: 2.4639 - val_acc: 0.9091\n",
      "\n",
      "Epoch 00045: val_loss did not improve from 2.42795\n",
      "Epoch 46/200\n",
      " - 1s - loss: 2.4611 - acc: 0.9706 - val_loss: 2.4109 - val_acc: 1.0000\n",
      "\n",
      "Epoch 00046: val_loss improved from 2.42795 to 2.41095, saving model to ./LSTM_Final_Model_CV.h5\n",
      "Epoch 47/200\n",
      " - 1s - loss: 2.4422 - acc: 0.9706 - val_loss: 2.4243 - val_acc: 0.9545\n",
      "\n",
      "Epoch 00047: val_loss did not improve from 2.41095\n",
      "Epoch 48/200\n",
      " - 1s - loss: 2.4327 - acc: 0.9412 - val_loss: 2.3867 - val_acc: 1.0000\n",
      "\n",
      "Epoch 00048: val_loss improved from 2.41095 to 2.38667, saving model to ./LSTM_Final_Model_CV.h5\n",
      "Epoch 49/200\n",
      " - 1s - loss: 2.4139 - acc: 0.9706 - val_loss: 2.3989 - val_acc: 0.9545\n",
      "\n",
      "Epoch 00049: val_loss did not improve from 2.38667\n",
      "Epoch 50/200\n",
      " - 1s - loss: 2.4154 - acc: 0.9706 - val_loss: 2.3999 - val_acc: 0.9545\n",
      "\n",
      "Epoch 00050: val_loss did not improve from 2.38667\n",
      "Epoch 51/200\n",
      " - 1s - loss: 2.3843 - acc: 0.9706 - val_loss: 2.4664 - val_acc: 0.9091\n",
      "\n",
      "Epoch 00051: val_loss did not improve from 2.38667\n",
      "Epoch 52/200\n",
      " - 1s - loss: 2.3786 - acc: 0.9706 - val_loss: 2.7289 - val_acc: 0.7727\n",
      "\n",
      "Epoch 00052: val_loss did not improve from 2.38667\n",
      "Epoch 53/200\n",
      " - 1s - loss: 2.5831 - acc: 0.8676 - val_loss: 2.4187 - val_acc: 0.9545\n",
      "\n",
      "Epoch 00053: val_loss did not improve from 2.38667\n",
      "Epoch 54/200\n",
      " - 1s - loss: 2.3769 - acc: 0.9706 - val_loss: 2.7366 - val_acc: 0.6818\n",
      "\n",
      "Epoch 00054: val_loss did not improve from 2.38667\n",
      "Epoch 55/200\n",
      " - 1s - loss: 2.5150 - acc: 0.8824 - val_loss: 2.5897 - val_acc: 0.8636\n",
      "\n",
      "Epoch 00055: val_loss did not improve from 2.38667\n",
      "Epoch 56/200\n",
      " - 1s - loss: 2.4373 - acc: 0.9265 - val_loss: 2.8008 - val_acc: 0.7727\n",
      "\n",
      "Epoch 00056: val_loss did not improve from 2.38667\n",
      "Epoch 57/200\n",
      " - 1s - loss: 2.6060 - acc: 0.8382 - val_loss: 2.5336 - val_acc: 0.8636\n",
      "\n",
      "Epoch 00057: val_loss did not improve from 2.38667\n",
      "Epoch 58/200\n",
      " - 1s - loss: 2.3946 - acc: 0.9412 - val_loss: 2.3958 - val_acc: 0.9545\n",
      "\n",
      "Epoch 00058: val_loss did not improve from 2.38667\n"
     ]
    }
   ],
   "source": [
    "# design network\n",
    "model = Sequential()\n",
    "model.add(LSTM(50, activation='tanh', input_shape=(501,1), kernel_initializer = 'he_normal', kernel_regularizer = regularizers.l2(0.01)))\n",
    "model.add(Dropout(0.3))\n",
    "model.add(Dense(1,activation='sigmoid', kernel_initializer = 'glorot_normal', kernel_regularizer = regularizers.l2(0.01)))\n",
    "\n",
    "model.compile(loss='binary_crossentropy', optimizer='adam', metrics=['acc'])\n",
    "\n",
    "early_stop = EarlyStopping(monitor='val_loss', patience=10, mode='min')\n",
    "model_check_point = ModelCheckpoint('./LSTM_Final_Model_CV.h5', monitor = 'val_loss', verbose =2, save_best_only=True)\n",
    "callback_list = [early_stop,model_check_point]\n",
    "\n",
    "# fit network\n",
    "history = model.fit(x_train, y_train, epochs=200, batch_size=64, validation_split=0.2, verbose=2, shuffle=False,\n",
    "                   callbacks = callback_list)"
   ]
  },
  {
   "cell_type": "code",
   "execution_count": 19,
   "metadata": {},
   "outputs": [
    {
     "data": {
      "image/png": "[encoded data removed]",
      "text/plain": [
       "<Figure size 432x288 with 1 Axes>"
      ]
     },
     "metadata": {},
     "output_type": "display_data"
    }
   ],
   "source": [
    "# plot history\n",
    "plt.plot(history.history['loss'], label='train')\n",
    "plt.plot(history.history['val_loss'], label='test')\n",
    "plt.xlabel('Epochs')\n",
    "plt.ylabel('Loss')\n",
    "plt.legend()\n",
    "plt.show()"
   ]
  },
  {
   "cell_type": "code",
   "execution_count": 20,
   "metadata": {},
   "outputs": [],
   "source": [
    "model = load_model('LSTM_Final_Model_CV.h5')"
   ]
  },
  {
   "cell_type": "code",
   "execution_count": 21,
   "metadata": {},
   "outputs": [],
   "source": [
    "y_pred = model.predict_classes(x_val)"
   ]
  },
  {
   "cell_type": "code",
   "execution_count": 22,
   "metadata": {},
   "outputs": [],
   "source": [
    "acc_score = accuracy_score(y_val, y_pred, normalize=True, sample_weight=None)\n",
    "precision = precision_score(y_val, y_pred, pos_label=1)\n",
    "recall = recall_score(y_val, y_pred, pos_label=1)\n",
    "f_score = f1_score(y_val, y_pred, pos_label=1)\n",
    "conf_mat = confusion_matrix(y_val, y_pred)"
   ]
  },
  {
   "cell_type": "code",
   "execution_count": 23,
   "metadata": {},
   "outputs": [
    {
     "name": "stdout",
     "output_type": "stream",
     "text": [
      "[[8 2]\n",
      " [0 8]]\n",
      "0.8888888888888888\n",
      "0.8\n",
      "1.0\n",
      "0.888888888888889\n"
     ]
    }
   ],
   "source": [
    "print(conf_mat)\n",
    "print(acc_score)\n",
    "print(precision)\n",
    "print(recall)\n",
    "print(f_score)"
   ]
  },
  {
   "cell_type": "code",
   "execution_count": 24,
   "metadata": {},
   "outputs": [
    {
     "name": "stdout",
     "output_type": "stream",
     "text": [
      "[[12  0]\n",
      " [ 0 10]]\n",
      "1.0\n",
      "1.0\n",
      "1.0\n",
      "1.0\n"
     ]
    }
   ],
   "source": [
    "y_pred = model.predict_classes(x_test)\n",
    "\n",
    "acc_score = accuracy_score(y_test, y_pred, normalize=True, sample_weight=None)\n",
    "precision = precision_score(y_test, y_pred, pos_label=1)\n",
    "recall = recall_score(y_test, y_pred, pos_label=1)\n",
    "f_score = f1_score(y_test, y_pred, pos_label=1)\n",
    "conf_mat = confusion_matrix(y_test, y_pred)\n",
    "\n",
    "print(conf_mat)\n",
    "print(acc_score)\n",
    "print(precision)\n",
    "print(recall)\n",
    "print(f_score)"
   ]
  },
  {
   "cell_type": "code",
   "execution_count": null,
   "metadata": {},
   "outputs": [],
   "source": [
    "\n",
    "\n"
   ]
  },
  {
   "cell_type": "code",
   "execution_count": 55,
   "metadata": {},
   "outputs": [],
   "source": [
    "for i in range(0, raw_data.shape[0]):\n",
    "    raw_data.iloc[i,:-1] = (raw_data.iloc[i,:-1] - min(raw_data.iloc[i,:-1])) / (max(raw_data.iloc[i,:-1]) - min(raw_data.iloc[i,:-1]))"
   ]
  },
  {
   "cell_type": "code",
   "execution_count": 56,
   "metadata": {},
   "outputs": [],
   "source": [
    "raw_data_X = np.array(raw_data.iloc[:,:-1])\n",
    "raw_data_y = np.array(raw_data.iloc[:,501])"
   ]
  },
  {
   "cell_type": "code",
   "execution_count": 57,
   "metadata": {},
   "outputs": [],
   "source": [
    "raw_data_X = raw_data_X.reshape((raw_data_X.shape[0], raw_data_X.shape[1], 1))"
   ]
  },
  {
   "cell_type": "code",
   "execution_count": 4,
   "metadata": {},
   "outputs": [],
   "source": [
    "model = load_model('LSTM_Final_Model_2.h5')"
   ]
  },
  {
   "cell_type": "code",
   "execution_count": 6,
   "metadata": {},
   "outputs": [
    {
     "name": "stdout",
     "output_type": "stream",
     "text": [
      "_________________________________________________________________\n",
      "Layer (type)                 Output Shape              Param #   \n",
      "=================================================================\n",
      "lstm_1 (LSTM)                (None, 50)                10400     \n",
      "_________________________________________________________________\n",
      "dropout_1 (Dropout)          (None, 50)                0         \n",
      "_________________________________________________________________\n",
      "dense_1 (Dense)              (None, 1)                 51        \n",
      "=================================================================\n",
      "Total params: 10,451\n",
      "Trainable params: 10,451\n",
      "Non-trainable params: 0\n",
      "_________________________________________________________________\n"
     ]
    }
   ],
   "source": [
    "model.summary()"
   ]
  },
  {
   "cell_type": "code",
   "execution_count": 86,
   "metadata": {},
   "outputs": [],
   "source": [
    "kfold = StratifiedKFold(n_splits=5, shuffle=True, random_state = 500)\n",
    "X = raw_data_X\n",
    "Y = raw_data_y\n",
    "\n",
    "cv_acc = []\n",
    "cv_precision = []\n",
    "cv_recall = []\n",
    "cv_f1 = []"
   ]
  },
  {
   "cell_type": "code",
   "execution_count": 87,
   "metadata": {},
   "outputs": [],
   "source": [
    "for train, test in kfold.split(X, Y):\n",
    "    \n",
    "    # evaluate the model\n",
    "    y_pred = model.predict_classes(X[test])\n",
    "    \n",
    "    accuracy = accuracy_score(Y[test], y_pred, normalize=True, sample_weight=None)\n",
    "    precision = precision_score(Y[test], y_pred, pos_label=1)\n",
    "    recall = recall_score(Y[test], y_pred, pos_label=1)\n",
    "    f_score = f1_score(Y[test], y_pred, pos_label=1)\n",
    "    \n",
    "    cv_acc.append(accuracy)\n",
    "    cv_precision.append(precision)\n",
    "    cv_recall.append(recall)\n",
    "    cv_f1.append(f_score)"
   ]
  },
  {
   "cell_type": "code",
   "execution_count": 88,
   "metadata": {},
   "outputs": [
    {
     "name": "stdout",
     "output_type": "stream",
     "text": [
      "accuracy: 0.9619047619047618\n",
      "precision: 0.9595959595959596\n",
      "recall: 0.96\n",
      "f1: 0.9588972431077695\n",
      "\n",
      "\n"
     ]
    }
   ],
   "source": [
    "print('accuracy:', np.mean(cv_acc))\n",
    "print('precision:', np.mean(cv_precision))\n",
    "print('recall:', np.mean(cv_recall))\n",
    "print('f1:', np.mean(cv_f1))\n",
    "print('\\n')"
   ]
  },
  {
   "cell_type": "code",
   "execution_count": null,
   "metadata": {},
   "outputs": [],
   "source": []
  }
 ],
 "metadata": {
  "kernelspec": {
   "display_name": "Python 3",
   "language": "python",
   "name": "python3"
  },
  "language_info": {
   "codemirror_mode": {
    "name": "ipython",
    "version": 3
   },
   "file_extension": ".py",
   "mimetype": "text/x-python",
   "name": "python",
   "nbconvert_exporter": "python",
   "pygments_lexer": "ipython3",
   "version": "3.7.3"
  },
  "pycharm": {
   "stem_cell": {
    "cell_type": "raw",
    "source": [],
    "metadata": {
     "collapsed": false
    }
   }
  }
 },
 "nbformat": 4,
 "nbformat_minor": 2
}