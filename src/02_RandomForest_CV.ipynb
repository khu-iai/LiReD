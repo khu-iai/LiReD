{
 "cells": [
  {
   "cell_type": "code",
   "execution_count": 8,
   "metadata": {},
   "outputs": [],
   "source": [
    "import pandas as pd              \n",
    "import numpy as np  \n",
    "import matplotlib.pyplot as plt\n",
    "from sklearn.model_selection import train_test_split, GridSearchCV, RandomizedSearchCV, cross_validate, RepeatedStratifiedKFold, StratifiedKFold\n",
    "from sklearn.ensemble import RandomForestClassifier as rf\n",
    "from sklearn.metrics import classification_report, confusion_matrix, f1_score, precision_score, recall_score\n",
    "from sklearn.preprocessing import normalize, scale\n",
    "from pprint import pprint"
   ]
  },
  {
   "cell_type": "code",
   "execution_count": 22,
   "metadata": {},
   "outputs": [
    {
     "data": {
      "text/html": [
       "<div>\n",
       "<style scoped>\n",
       "    .dataframe tbody tr th:only-of-type {\n",
       "        vertical-align: middle;\n",
       "    }\n",
       "\n",
       "    .dataframe tbody tr th {\n",
       "        vertical-align: top;\n",
       "    }\n",
       "\n",
       "    .dataframe thead th {\n",
       "        text-align: right;\n",
       "    }\n",
       "</style>\n",
       "<table border=\"1\" class=\"dataframe\">\n",
       "  <thead>\n",
       "    <tr style=\"text-align: right;\">\n",
       "      <th></th>\n",
       "      <th>t1</th>\n",
       "      <th>t2</th>\n",
       "      <th>t3</th>\n",
       "      <th>t4</th>\n",
       "      <th>t5</th>\n",
       "      <th>t6</th>\n",
       "      <th>t7</th>\n",
       "      <th>t8</th>\n",
       "      <th>t9</th>\n",
       "      <th>t10</th>\n",
       "      <th>...</th>\n",
       "      <th>t493</th>\n",
       "      <th>t494</th>\n",
       "      <th>t495</th>\n",
       "      <th>t496</th>\n",
       "      <th>t497</th>\n",
       "      <th>t498</th>\n",
       "      <th>t499</th>\n",
       "      <th>t500</th>\n",
       "      <th>t501</th>\n",
       "      <th>y</th>\n",
       "    </tr>\n",
       "  </thead>\n",
       "  <tbody>\n",
       "    <tr>\n",
       "      <th>0</th>\n",
       "      <td>0.019336</td>\n",
       "      <td>0.000000</td>\n",
       "      <td>0.000000</td>\n",
       "      <td>0.000000</td>\n",
       "      <td>0.003223</td>\n",
       "      <td>0.000000</td>\n",
       "      <td>0.000000</td>\n",
       "      <td>0.000000</td>\n",
       "      <td>0.000000</td>\n",
       "      <td>0.000000</td>\n",
       "      <td>...</td>\n",
       "      <td>0.029004</td>\n",
       "      <td>0.009668</td>\n",
       "      <td>0.012891</td>\n",
       "      <td>0.000000</td>\n",
       "      <td>0.0</td>\n",
       "      <td>0.0</td>\n",
       "      <td>0.003223</td>\n",
       "      <td>0.003223</td>\n",
       "      <td>0.0</td>\n",
       "      <td>0</td>\n",
       "    </tr>\n",
       "    <tr>\n",
       "      <th>1</th>\n",
       "      <td>0.000000</td>\n",
       "      <td>0.000000</td>\n",
       "      <td>0.012891</td>\n",
       "      <td>0.000000</td>\n",
       "      <td>0.016113</td>\n",
       "      <td>0.000000</td>\n",
       "      <td>0.006445</td>\n",
       "      <td>0.000000</td>\n",
       "      <td>0.003223</td>\n",
       "      <td>0.022559</td>\n",
       "      <td>...</td>\n",
       "      <td>0.000000</td>\n",
       "      <td>0.000000</td>\n",
       "      <td>0.000000</td>\n",
       "      <td>0.009668</td>\n",
       "      <td>0.0</td>\n",
       "      <td>0.0</td>\n",
       "      <td>0.000000</td>\n",
       "      <td>0.009668</td>\n",
       "      <td>0.0</td>\n",
       "      <td>0</td>\n",
       "    </tr>\n",
       "    <tr>\n",
       "      <th>2</th>\n",
       "      <td>0.000000</td>\n",
       "      <td>0.009668</td>\n",
       "      <td>0.000000</td>\n",
       "      <td>0.000000</td>\n",
       "      <td>0.006445</td>\n",
       "      <td>0.012891</td>\n",
       "      <td>0.000000</td>\n",
       "      <td>0.000000</td>\n",
       "      <td>0.029004</td>\n",
       "      <td>0.025781</td>\n",
       "      <td>...</td>\n",
       "      <td>0.006445</td>\n",
       "      <td>0.003223</td>\n",
       "      <td>0.012891</td>\n",
       "      <td>0.000000</td>\n",
       "      <td>0.0</td>\n",
       "      <td>0.0</td>\n",
       "      <td>0.000000</td>\n",
       "      <td>0.003223</td>\n",
       "      <td>0.0</td>\n",
       "      <td>0</td>\n",
       "    </tr>\n",
       "    <tr>\n",
       "      <th>3</th>\n",
       "      <td>0.000000</td>\n",
       "      <td>0.000000</td>\n",
       "      <td>0.000000</td>\n",
       "      <td>0.016113</td>\n",
       "      <td>0.006445</td>\n",
       "      <td>0.003223</td>\n",
       "      <td>0.000000</td>\n",
       "      <td>0.022559</td>\n",
       "      <td>0.012891</td>\n",
       "      <td>0.000000</td>\n",
       "      <td>...</td>\n",
       "      <td>0.000000</td>\n",
       "      <td>0.003223</td>\n",
       "      <td>0.000000</td>\n",
       "      <td>0.000000</td>\n",
       "      <td>0.0</td>\n",
       "      <td>0.0</td>\n",
       "      <td>0.000000</td>\n",
       "      <td>0.000000</td>\n",
       "      <td>0.0</td>\n",
       "      <td>0</td>\n",
       "    </tr>\n",
       "    <tr>\n",
       "      <th>4</th>\n",
       "      <td>0.016113</td>\n",
       "      <td>0.000000</td>\n",
       "      <td>0.000000</td>\n",
       "      <td>0.000000</td>\n",
       "      <td>0.012891</td>\n",
       "      <td>0.000000</td>\n",
       "      <td>0.000000</td>\n",
       "      <td>0.003223</td>\n",
       "      <td>0.003223</td>\n",
       "      <td>0.000000</td>\n",
       "      <td>...</td>\n",
       "      <td>0.000000</td>\n",
       "      <td>0.000000</td>\n",
       "      <td>0.000000</td>\n",
       "      <td>0.000000</td>\n",
       "      <td>0.0</td>\n",
       "      <td>0.0</td>\n",
       "      <td>0.000000</td>\n",
       "      <td>0.003223</td>\n",
       "      <td>0.0</td>\n",
       "      <td>0</td>\n",
       "    </tr>\n",
       "  </tbody>\n",
       "</table>\n",
       "<p>5 rows × 502 columns</p>\n",
       "</div>"
      ],
      "text/plain": [
       "         t1        t2        t3        t4        t5        t6        t7  \\\n",
       "0  0.019336  0.000000  0.000000  0.000000  0.003223  0.000000  0.000000   \n",
       "1  0.000000  0.000000  0.012891  0.000000  0.016113  0.000000  0.006445   \n",
       "2  0.000000  0.009668  0.000000  0.000000  0.006445  0.012891  0.000000   \n",
       "3  0.000000  0.000000  0.000000  0.016113  0.006445  0.003223  0.000000   \n",
       "4  0.016113  0.000000  0.000000  0.000000  0.012891  0.000000  0.000000   \n",
       "\n",
       "         t8        t9       t10 ...      t493      t494      t495      t496  \\\n",
       "0  0.000000  0.000000  0.000000 ...  0.029004  0.009668  0.012891  0.000000   \n",
       "1  0.000000  0.003223  0.022559 ...  0.000000  0.000000  0.000000  0.009668   \n",
       "2  0.000000  0.029004  0.025781 ...  0.006445  0.003223  0.012891  0.000000   \n",
       "3  0.022559  0.012891  0.000000 ...  0.000000  0.003223  0.000000  0.000000   \n",
       "4  0.003223  0.003223  0.000000 ...  0.000000  0.000000  0.000000  0.000000   \n",
       "\n",
       "   t497  t498      t499      t500  t501  y  \n",
       "0   0.0   0.0  0.003223  0.003223   0.0  0  \n",
       "1   0.0   0.0  0.000000  0.009668   0.0  0  \n",
       "2   0.0   0.0  0.000000  0.003223   0.0  0  \n",
       "3   0.0   0.0  0.000000  0.000000   0.0  0  \n",
       "4   0.0   0.0  0.000000  0.003223   0.0  0  \n",
       "\n",
       "[5 rows x 502 columns]"
      ]
     },
     "execution_count": 22,
     "metadata": {},
     "output_type": "execute_result"
    }
   ],
   "source": [
    "raw_data = pd.read_csv('final_data.csv')\n",
    "raw_data.head()"
   ]
  },
  {
   "cell_type": "code",
   "execution_count": 23,
   "metadata": {},
   "outputs": [],
   "source": [
    "#seed = 567\n",
    "#test_size = 0.2\n",
    "#x_train, x_test, y_train, y_test = train_test_split(raw_data.iloc[:,0:501], raw_data.iloc[:,501], test_size=test_size, random_state=seed)"
   ]
  },
  {
   "cell_type": "code",
   "execution_count": 24,
   "metadata": {},
   "outputs": [
    {
     "data": {
      "text/plain": [
       "'\\nfor i in range(0, x_train.shape[0]):\\n    x_train.iloc[i,:] = (x_train.iloc[i,:] - min(x_train.iloc[i,:])) / (max(x_train.iloc[i,:]) - min(x_train.iloc[i,:]))\\n    \\nfor i in range(0, x_test.shape[0]):\\n    x_test.iloc[i,:] = (x_test.iloc[i,:] - min(x_test.iloc[i,:])) / (max(x_test.iloc[i,:]) - min(x_test.iloc[i,:]))\\n'"
      ]
     },
     "execution_count": 24,
     "metadata": {},
     "output_type": "execute_result"
    }
   ],
   "source": [
    "'''\n",
    "for i in range(0, x_train.shape[0]):\n",
    "    x_train.iloc[i,:] = (x_train.iloc[i,:] - min(x_train.iloc[i,:])) / (max(x_train.iloc[i,:]) - min(x_train.iloc[i,:]))\n",
    "    \n",
    "for i in range(0, x_test.shape[0]):\n",
    "    x_test.iloc[i,:] = (x_test.iloc[i,:] - min(x_test.iloc[i,:])) / (max(x_test.iloc[i,:]) - min(x_test.iloc[i,:]))\n",
    "'''"
   ]
  },
  {
   "cell_type": "code",
   "execution_count": 25,
   "metadata": {},
   "outputs": [],
   "source": [
    "#SI Functions\n",
    "def get_mean(x):\n",
    "    avg = np.mean(x)\n",
    "    return(avg)\n",
    "\n",
    "def get_std(x):\n",
    "    std = np.std(x)\n",
    "    return(std)\n",
    "\n",
    "def get_skewness(x):\n",
    "    skewness = sum((x - np.mean(x))**3) / ((len(x)-1)*(np.std(x)**3))\n",
    "    return(skewness)\n",
    "\n",
    "def get_kurtosis(x):\n",
    "    kurtosis = sum((x - np.mean(x))**4) / ((len(x)-1)*(np.std(x)**4))\n",
    "    return (kurtosis)\n",
    "\n",
    "def get_p2p(x):\n",
    "    p2p = (np.max(x) - np.min(x))\n",
    "    return(p2p)\n",
    "\n",
    "def get_rms(x):\n",
    "    rms = np.sqrt(sum(x**2) / len(x))\n",
    "    return(rms)\n",
    "\n",
    "def get_crestFactor(x):\n",
    "    crestFactor = get_p2p(x) / get_rms(x)\n",
    "    return(crestFactor)\n",
    "\n",
    "def get_shapeFactor(x):\n",
    "    shapeFactor = get_rms(x) / get_mean(x)\n",
    "    return(shapeFactor)\n",
    "    \n",
    "def get_marginFactor(x):\n",
    "    marginFactor = np.max(x) / (np.mean((np.sqrt(abs(x))))**2)\n",
    "    return(marginFactor)\n",
    "\n",
    "def get_impulseFactor(x):\n",
    "    impulseFactor = np.max(x) / np.mean(abs(x))\n",
    "    return(impulseFactor)"
   ]
  },
  {
   "cell_type": "code",
   "execution_count": 26,
   "metadata": {},
   "outputs": [],
   "source": [
    "def make_df(x):\n",
    "    mean_value = np.apply_along_axis(get_mean, 1, x)\n",
    "    std_value = np.apply_along_axis(get_std, 1, x)\n",
    "    skewness_value = np.apply_along_axis(get_skewness, 1, x)\n",
    "    kurtosis_value = np.apply_along_axis(get_kurtosis, 1, x)\n",
    "    p2p_value = np.apply_along_axis(get_p2p, 1, x)\n",
    "    rms_value = np.apply_along_axis(get_rms, 1, x)\n",
    "    crestFactor_value = np.apply_along_axis(get_crestFactor, 1, x)\n",
    "    shapeFactor_value = np.apply_along_axis(get_shapeFactor, 1, x)\n",
    "    marginFactor_value = np.apply_along_axis(get_marginFactor, 1, x)\n",
    "    impulseFactor_value = np.apply_along_axis(get_impulseFactor, 1, x)\n",
    "    \n",
    "    df = pd.DataFrame({'mean':mean_value, 'std':std_value, 'skewness':skewness_value, 'kurtosis':kurtosis_value, 'p2p':p2p_value, 'rms':rms_value,\n",
    "                       'crest':crestFactor_value, 'shape':shapeFactor_value, 'margin':marginFactor_value, 'impulse':impulseFactor_value})\n",
    "    \n",
    "    return(df)"
   ]
  },
  {
   "cell_type": "code",
   "execution_count": 27,
   "metadata": {},
   "outputs": [
    {
     "data": {
      "text/html": [
       "<div>\n",
       "<style scoped>\n",
       "    .dataframe tbody tr th:only-of-type {\n",
       "        vertical-align: middle;\n",
       "    }\n",
       "\n",
       "    .dataframe tbody tr th {\n",
       "        vertical-align: top;\n",
       "    }\n",
       "\n",
       "    .dataframe thead th {\n",
       "        text-align: right;\n",
       "    }\n",
       "</style>\n",
       "<table border=\"1\" class=\"dataframe\">\n",
       "  <thead>\n",
       "    <tr style=\"text-align: right;\">\n",
       "      <th></th>\n",
       "      <th>0</th>\n",
       "      <th>1</th>\n",
       "      <th>2</th>\n",
       "      <th>3</th>\n",
       "      <th>4</th>\n",
       "      <th>5</th>\n",
       "      <th>6</th>\n",
       "      <th>7</th>\n",
       "      <th>8</th>\n",
       "      <th>y</th>\n",
       "    </tr>\n",
       "  </thead>\n",
       "  <tbody>\n",
       "    <tr>\n",
       "      <th>0</th>\n",
       "      <td>0.153121</td>\n",
       "      <td>-0.752439</td>\n",
       "      <td>-0.890397</td>\n",
       "      <td>-0.934294</td>\n",
       "      <td>-0.863241</td>\n",
       "      <td>-0.742778</td>\n",
       "      <td>-0.888503</td>\n",
       "      <td>-0.851117</td>\n",
       "      <td>-0.904444</td>\n",
       "      <td>0</td>\n",
       "    </tr>\n",
       "    <tr>\n",
       "      <th>1</th>\n",
       "      <td>0.494340</td>\n",
       "      <td>-0.555918</td>\n",
       "      <td>-0.738381</td>\n",
       "      <td>-0.844713</td>\n",
       "      <td>-0.730736</td>\n",
       "      <td>-0.548446</td>\n",
       "      <td>-0.695689</td>\n",
       "      <td>-0.684841</td>\n",
       "      <td>-0.750537</td>\n",
       "      <td>0</td>\n",
       "    </tr>\n",
       "    <tr>\n",
       "      <th>2</th>\n",
       "      <td>0.356400</td>\n",
       "      <td>-0.737027</td>\n",
       "      <td>-0.980061</td>\n",
       "      <td>-0.983588</td>\n",
       "      <td>-0.886624</td>\n",
       "      <td>-0.723624</td>\n",
       "      <td>-0.995024</td>\n",
       "      <td>-0.864040</td>\n",
       "      <td>-0.918422</td>\n",
       "      <td>0</td>\n",
       "    </tr>\n",
       "    <tr>\n",
       "      <th>3</th>\n",
       "      <td>-0.238917</td>\n",
       "      <td>-0.886445</td>\n",
       "      <td>-1.018223</td>\n",
       "      <td>-1.000933</td>\n",
       "      <td>-0.980157</td>\n",
       "      <td>-0.877637</td>\n",
       "      <td>-1.158038</td>\n",
       "      <td>-0.947433</td>\n",
       "      <td>-0.974115</td>\n",
       "      <td>0</td>\n",
       "    </tr>\n",
       "    <tr>\n",
       "      <th>4</th>\n",
       "      <td>-0.151797</td>\n",
       "      <td>-0.872860</td>\n",
       "      <td>-1.070723</td>\n",
       "      <td>-1.028381</td>\n",
       "      <td>-0.980157</td>\n",
       "      <td>-0.862873</td>\n",
       "      <td>-1.175722</td>\n",
       "      <td>-0.944180</td>\n",
       "      <td>-0.983993</td>\n",
       "      <td>0</td>\n",
       "    </tr>\n",
       "  </tbody>\n",
       "</table>\n",
       "</div>"
      ],
      "text/plain": [
       "          0         1         2         3         4         5         6  \\\n",
       "0  0.153121 -0.752439 -0.890397 -0.934294 -0.863241 -0.742778 -0.888503   \n",
       "1  0.494340 -0.555918 -0.738381 -0.844713 -0.730736 -0.548446 -0.695689   \n",
       "2  0.356400 -0.737027 -0.980061 -0.983588 -0.886624 -0.723624 -0.995024   \n",
       "3 -0.238917 -0.886445 -1.018223 -1.000933 -0.980157 -0.877637 -1.158038   \n",
       "4 -0.151797 -0.872860 -1.070723 -1.028381 -0.980157 -0.862873 -1.175722   \n",
       "\n",
       "          7         8  y  \n",
       "0 -0.851117 -0.904444  0  \n",
       "1 -0.684841 -0.750537  0  \n",
       "2 -0.864040 -0.918422  0  \n",
       "3 -0.947433 -0.974115  0  \n",
       "4 -0.944180 -0.983993  0  "
      ]
     },
     "execution_count": 27,
     "metadata": {},
     "output_type": "execute_result"
    }
   ],
   "source": [
    "raw_data_new = make_df(raw_data)\n",
    "\n",
    "raw_data_new_normalized = pd.DataFrame(scale(raw_data_new.iloc[:,:-1], axis = 0))\n",
    "raw_data_new_normalized['y'] = raw_data['y']\n",
    "\n",
    "raw_data_new_normalized.head()"
   ]
  },
  {
   "cell_type": "code",
   "execution_count": 28,
   "metadata": {},
   "outputs": [],
   "source": [
    "seed = 7\n",
    "test_size = 0.3\n",
    "x_train, x_test, y_train, y_test = train_test_split(raw_data_new_normalized.iloc[:,0:10], raw_data_new_normalized['y'], test_size=test_size, random_state=seed)"
   ]
  },
  {
   "cell_type": "code",
   "execution_count": null,
   "metadata": {},
   "outputs": [],
   "source": []
  },
  {
   "cell_type": "code",
   "execution_count": 29,
   "metadata": {},
   "outputs": [
    {
     "data": {
      "text/plain": [
       "RandomForestClassifier(bootstrap=True, class_weight=None, criterion='gini',\n",
       "            max_depth=None, max_features='auto', max_leaf_nodes=None,\n",
       "            min_impurity_decrease=0.0, min_impurity_split=None,\n",
       "            min_samples_leaf=1, min_samples_split=2,\n",
       "            min_weight_fraction_leaf=0.0, n_estimators=10, n_jobs=1,\n",
       "            oob_score=False, random_state=None, verbose=0,\n",
       "            warm_start=False)"
      ]
     },
     "execution_count": 29,
     "metadata": {},
     "output_type": "execute_result"
    }
   ],
   "source": [
    "model = rf()\n",
    "model.fit(x_train, y_train)"
   ]
  },
  {
   "cell_type": "code",
   "execution_count": 30,
   "metadata": {},
   "outputs": [],
   "source": [
    "y_pred = model.predict(x_test)"
   ]
  },
  {
   "cell_type": "code",
   "execution_count": 31,
   "metadata": {},
   "outputs": [
    {
     "name": "stdout",
     "output_type": "stream",
     "text": [
      "             precision    recall  f1-score   support\n",
      "\n",
      "          0       1.00      1.00      1.00        19\n",
      "          1       1.00      1.00      1.00        14\n",
      "\n",
      "avg / total       1.00      1.00      1.00        33\n",
      "\n"
     ]
    }
   ],
   "source": [
    "print(classification_report(y_test, y_pred))"
   ]
  },
  {
   "cell_type": "code",
   "execution_count": 32,
   "metadata": {},
   "outputs": [
    {
     "name": "stdout",
     "output_type": "stream",
     "text": [
      "{'bootstrap': [True, False],\n",
      " 'criterion': ['gini', 'entropy'],\n",
      " 'max_depth': [3, 5, 7, 9, 11, 13, None],\n",
      " 'max_features': ['auto', 'sqrt'],\n",
      " 'min_samples_leaf': [1, 2, 4],\n",
      " 'min_samples_split': [2, 5, 10],\n",
      " 'n_estimators': [25, 50, 150, 250, 350]}\n"
     ]
    }
   ],
   "source": [
    "n_estimators = [25,50,150,250,350]\n",
    "\n",
    "# Number of features to consider at every split\n",
    "max_features = ['auto','sqrt']\n",
    "\n",
    "# Maximum number of levels in tree\n",
    "max_depth = [3,5,7,9,11,13]\n",
    "max_depth.append(None)\n",
    "\n",
    "# Minimum number of samples required to split a node\n",
    "min_samples_split = [2,5,10]\n",
    "\n",
    "# Minimum number of samples required at each leaf node\n",
    "min_samples_leaf = [1, 2, 4]\n",
    "\n",
    "# Method of selecting samples for training each tree\n",
    "bootstrap = [True,False]\n",
    "\n",
    "criterion = ['gini','entropy']\n",
    "\n",
    "# Create the random grid\n",
    "random_grid = {'n_estimators': n_estimators,\n",
    "               'max_features': max_features,\n",
    "               'max_depth': max_depth,\n",
    "               'min_samples_split': min_samples_split,\n",
    "               'min_samples_leaf': min_samples_leaf,\n",
    "               'bootstrap': bootstrap,\n",
    "               \"criterion\": criterion}\n",
    "\n",
    "pprint(random_grid)"
   ]
  },
  {
   "cell_type": "code",
   "execution_count": 33,
   "metadata": {},
   "outputs": [],
   "source": [
    "#rf_random = GridSearchCV(estimator = model, param_grid = random_grid, scoring = 'accuracy',\n",
    "#                         cv = 5, verbose=2, n_jobs = 4)\n",
    "\n",
    "rf_random = RandomizedSearchCV(estimator = rf(), param_distributions = random_grid, n_iter=500, scoring = 'f1', cv = 5, verbose=2, n_jobs = 4,\n",
    "                               random_state = None, return_train_score = True)"
   ]
  },
  {
   "cell_type": "code",
   "execution_count": null,
   "metadata": {},
   "outputs": [],
   "source": [
    "rf_random.fit(x_train, y_train)"
   ]
  },
  {
   "cell_type": "code",
   "execution_count": 18,
   "metadata": {},
   "outputs": [
    {
     "name": "stdout",
     "output_type": "stream",
     "text": [
      "{'n_estimators': 25, 'min_samples_split': 10, 'min_samples_leaf': 2, 'max_features': 'sqrt', 'max_depth': 9, 'criterion': 'entropy', 'bootstrap': True}\n",
      "1.0\n"
     ]
    }
   ],
   "source": [
    "print(rf_random.best_params_)\n",
    "print(rf_random.best_score_)"
   ]
  },
  {
   "cell_type": "code",
   "execution_count": 19,
   "metadata": {},
   "outputs": [],
   "source": [
    "model_tuned = rf_random.best_estimator_"
   ]
  },
  {
   "cell_type": "code",
   "execution_count": 20,
   "metadata": {},
   "outputs": [],
   "source": [
    "rf_random_pred = model_tuned.predict(x_test)"
   ]
  },
  {
   "cell_type": "code",
   "execution_count": 21,
   "metadata": {},
   "outputs": [
    {
     "name": "stdout",
     "output_type": "stream",
     "text": [
      "             precision    recall  f1-score   support\n",
      "\n",
      "          0       1.00      1.00      1.00        22\n",
      "          1       1.00      1.00      1.00        11\n",
      "\n",
      "avg / total       1.00      1.00      1.00        33\n",
      "\n",
      "[[22  0]\n",
      " [ 0 11]]\n",
      "acc: 1.0\n",
      "f1: 1.0\n"
     ]
    }
   ],
   "source": [
    "print(classification_report(y_test, rf_random_pred))\n",
    "print(confusion_matrix(y_test, rf_random_pred))\n",
    "print('acc:', np.mean(y_test == rf_random_pred))\n",
    "print('f1:', f1_score(y_test, rf_random_pred, pos_label=1))"
   ]
  },
  {
   "cell_type": "code",
   "execution_count": 18,
   "metadata": {},
   "outputs": [
    {
     "name": "stdout",
     "output_type": "stream",
     "text": [
      "             precision    recall  f1-score   support\n",
      "\n",
      "          0       0.89      0.53      0.67        15\n",
      "          1       0.46      0.86      0.60         7\n",
      "\n",
      "avg / total       0.75      0.64      0.65        22\n",
      "\n",
      "[[8 7]\n",
      " [1 6]]\n",
      "acc: 0.6363636363636364\n",
      "f1: 0.6\n"
     ]
    }
   ],
   "source": [
    "print(classification_report(y_test, rf_random_pred))\n",
    "print(confusion_matrix(y_test, rf_random_pred))\n",
    "print('acc:', np.mean(y_test == rf_random_pred))\n",
    "print('f1:', f1_score(y_test, rf_random_pred, pos_label=1))"
   ]
  },
  {
   "cell_type": "code",
   "execution_count": 19,
   "metadata": {},
   "outputs": [
    {
     "data": {
      "text/plain": [
       "array([1, 1, 0, 0, 1, 0, 1, 0, 0, 1, 1, 0, 1, 1, 1, 0, 1, 1, 0, 1, 0, 1])"
      ]
     },
     "execution_count": 19,
     "metadata": {},
     "output_type": "execute_result"
    }
   ],
   "source": [
    "rf_random_pred"
   ]
  },
  {
   "cell_type": "code",
   "execution_count": null,
   "metadata": {},
   "outputs": [],
   "source": [
    "'''\n",
    "\n",
    "cv = RepeatedStratifiedKFold(n_splits=5, n_repeats=5, random_state=100)\n",
    "\n",
    "scores = cross_validate(model_tuned, raw_data.iloc[:,:-1], raw_data.iloc[:,501], cv=cv, scoring=['accuracy','precision','recall','f1'],return_train_score=False)\n",
    "\n",
    "cv_acc = scores['test_accuracy']\n",
    "cv_precision = scores['test_precision']\n",
    "cv_recall = scores['test_recall']\n",
    "cv_f1 = scores['test_f1']\n",
    "\n",
    "i=20\n",
    "print('acc:', np.mean(cv_acc[i:i+5]))\n",
    "print('precision:', np.mean(cv_precision[i:i+5]))\n",
    "print('recall:', np.mean(cv_recall[i:i+5]))\n",
    "print('f1:', np.mean(cv_f1[i:i+5]))\n",
    "\n",
    "# cross validation\n",
    "\n",
    "X = raw_data.iloc[:,:-1]\n",
    "Y = raw_data.iloc[:,501]\n",
    "\n",
    "X = make_df(X)\n",
    "\n",
    "#X = np.array(X)\n",
    "#Y = np.array(Y)\n",
    "\n",
    "kfold = StratifiedKFold(n_splits=5, shuffle=True, random_state = 500)\n",
    "\n",
    "cv_acc = []\n",
    "cv_precision = []\n",
    "cv_recall = []\n",
    "cv_f1 = []\n",
    "\n",
    "model_tuned = rf_random.best_estimator_\n",
    "\n",
    "for train, test in kfold.split(X, Y):\n",
    "\n",
    "    rf_random_pred = model_tuned.predict(X.iloc[test,:])\n",
    "\n",
    "    # evaluate the model\n",
    "    y_pred = model_tuned.predict(X.iloc[test,:])\n",
    "    \n",
    "    accuracy = np.mean(y_pred == Y[test])\n",
    "    precision = precision_score(Y[test], y_pred, pos_label=1)\n",
    "    recall = recall_score(Y[test], y_pred, pos_label=1)\n",
    "    f_score = f1_score(Y[test], y_pred, pos_label=1)\n",
    "    \n",
    "    cv_acc.append(accuracy)\n",
    "    cv_precision.append(precision)\n",
    "    cv_recall.append(recall)\n",
    "    cv_f1.append(f_score)\n",
    "    \n",
    "print('accuracy:', np.mean(cv_acc))\n",
    "print('precision:', np.mean(cv_precision))\n",
    "print('recall:', np.mean(cv_recall))\n",
    "print('f1:', np.mean(cv_f1))\n",
    "\n",
    "'''"
   ]
  }
 ],
 "metadata": {
  "kernelspec": {
   "display_name": "Python 3 (base)",
   "language": "python",
   "name": "python3"
  },
  "language_info": {
   "codemirror_mode": {
    "name": "ipython",
    "version": 3
   },
   "file_extension": ".py",
   "mimetype": "text/x-python",
   "name": "python",
   "nbconvert_exporter": "python",
   "pygments_lexer": "ipython3",
   "version": "3.6.6"
  }
 },
 "nbformat": 4,
 "nbformat_minor": 2
}
